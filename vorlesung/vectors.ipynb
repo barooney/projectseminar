{
 "cells": [
  {
   "cell_type": "code",
   "execution_count": 1,
   "metadata": {},
   "outputs": [],
   "source": [
    "# the goal this time is to learn what is the cosine similarity, why it is important for vectors, what is the purpose\n",
    "# of using it, and how to get the maximum similar entity from the list of objects and list of entities (mentions)\n",
    "# that we have in the text\n",
    "\n",
    "import numpy as np\n",
    "from sklearn.metrics.pairwise import cosine_similarity\n",
    "\n",
    "text = 'An  airplane is flying.'\n",
    "text2 = 'The plane is moving.'\n",
    "\n",
    "# specify the path to your vectors here,\n",
    "# they can be uploaded from the corresponding website,\n",
    "# just google for GloVe or w2v\n",
    "\n",
    "with open(\"/Users/nilinykh/glove.6B/glove.6B.50d.txt\", \"rb\") as lines:\n",
    "    #for line in lines:\n",
    "    #    word = line.split()[0]\n",
    "    #    vector = line.split()[1:]\n",
    "    #    print(line.split()[0], np.array(line.split()[1:]))\n",
    "              \n",
    "    w2v = {line.split()[0]: np.array(line.split()[1:])\n",
    "           for line in lines}"
   ]
  },
  {
   "cell_type": "code",
   "execution_count": 2,
   "metadata": {},
   "outputs": [
    {
     "data": {
      "text/plain": [
       "400000"
      ]
     },
     "execution_count": 2,
     "metadata": {},
     "output_type": "execute_result"
    }
   ],
   "source": [
    "len(w2v)"
   ]
  },
  {
   "cell_type": "code",
   "execution_count": 3,
   "metadata": {},
   "outputs": [
    {
     "name": "stdout",
     "output_type": "stream",
     "text": [
      "b'an'\n",
      "[b'0.36143' b'0.58615' b'-0.23718' b'0.079656' b'0.80192' b'0.49919'\n",
      " b'-0.33172' b'-0.19785' b'0.13876' b'0.16804' b'0.12557' b'-0.24494'\n",
      " b'-0.092315' b'0.35135' b'-0.024396' b'-0.31713' b'0.071206' b'0.37087'\n",
      " b'-0.82027' b'0.21193' b'-0.052153' b'0.29928' b'-0.49494' b'-0.12546'\n",
      " b'-0.012394' b'-2.2174' b'-0.082666' b'0.15184' b'0.050396' b'0.61229'\n",
      " b'3.7305' b'-0.93152' b'-0.28716' b'-0.48056' b'0.060682' b'0.058104'\n",
      " b'0.42065' b'-0.046598' b'0.083503' b'-0.23819' b'0.38828' b'0.36926'\n",
      " b'-0.44066' b'0.075673' b'-0.050556' b'-0.42269' b'-0.21577' b'0.39362'\n",
      " b'0.36523' b'0.36077']\n",
      "b'airplane'\n",
      "[b'1.2977' b'-0.29922' b'0.66154' b'-0.20133' b'-0.02502' b'0.28644'\n",
      " b'-1.0811' b'-0.13045' b'0.64917' b'-0.33634' b'0.53352' b'0.32792'\n",
      " b'-0.43206' b'1.4613' b'0.022957' b'-0.26019' b'-1.1061' b'1.077'\n",
      " b'-0.99877' b'-1.3468' b'0.39016' b'0.43799' b'-1.0403' b'-0.36612'\n",
      " b'0.39231' b'-1.3089' b'-0.82404' b'0.63095' b'1.2513' b'0.10211'\n",
      " b'1.2735' b'-0.0050163' b'-0.39469' b'0.36387' b'0.65099' b'-0.21433'\n",
      " b'0.52291' b'-0.079013' b'-0.14676' b'0.89248' b'-0.31447' b'0.090903'\n",
      " b'0.78216' b'-0.10842' b'-0.3186' b'0.16068' b'-0.20168' b'-0.095033'\n",
      " b'-0.010109' b'0.19048']\n",
      "b'is'\n",
      "[b'0.6185' b'0.64254' b'-0.46552' b'0.3757' b'0.74838' b'0.53739'\n",
      " b'0.0022239' b'-0.60577' b'0.26408' b'0.11703' b'0.43722' b'0.20092'\n",
      " b'-0.057859' b'-0.34589' b'0.21664' b'0.58573' b'0.53919' b'0.6949'\n",
      " b'-0.15618' b'0.05583' b'-0.60515' b'-0.28997' b'-0.025594' b'0.55593'\n",
      " b'0.25356' b'-1.9612' b'-0.51381' b'0.69096' b'0.066246' b'-0.054224'\n",
      " b'3.7871' b'-0.77403' b'-0.12689' b'-0.51465' b'0.066705' b'-0.32933'\n",
      " b'0.13483' b'0.19049' b'0.13812' b'-0.21503' b'-0.016573' b'0.312'\n",
      " b'-0.33189' b'-0.026001' b'-0.38203' b'0.19403' b'-0.12466' b'-0.27557'\n",
      " b'0.30899' b'0.48497']\n",
      "b'flying'\n",
      "[b'0.88765' b'-0.20669' b'-0.19995' b'-0.54971' b'0.10254' b'-0.41088'\n",
      " b'-0.93847' b'-0.20044' b'0.2781' b'-0.85379' b'0.67752' b'0.33449'\n",
      " b'-0.17127' b'0.73802' b'-0.34885' b'-0.31238' b'-0.40011' b'0.8127'\n",
      " b'-2.3499' b'-0.65873' b'-0.29497' b'0.46703' b'-0.072606' b'-0.38372'\n",
      " b'0.1634' b'-1.3958' b'-0.29359' b'0.40506' b'0.59266' b'-0.28011'\n",
      " b'2.0614' b'0.6265' b'-0.1971' b'0.25252' b'0.25607' b'0.10452'\n",
      " b'0.27703' b'-0.14881' b'-0.898' b'0.49178' b'0.049551' b'-0.014801'\n",
      " b'0.84928' b'0.018103' b'0.27996' b'-0.034254' b'0.083208' b'-0.38062'\n",
      " b'-0.67095' b'-0.13043']\n"
     ]
    }
   ],
   "source": [
    "for elem in text.split():\n",
    "    word = elem.lower().strip('.').encode()\n",
    "    print(word)\n",
    "    print(w2v[word])\n",
    "    "
   ]
  },
  {
   "cell_type": "code",
   "execution_count": 4,
   "metadata": {},
   "outputs": [
    {
     "data": {
      "text/plain": [
       "array([[0.66219228]])"
      ]
     },
     "execution_count": 4,
     "metadata": {},
     "output_type": "execute_result"
    }
   ],
   "source": [
    "cosine_similarity([w2v[b'life']], [w2v[b'journey']])"
   ]
  },
  {
   "cell_type": "code",
   "execution_count": null,
   "metadata": {},
   "outputs": [],
   "source": []
  }
 ],
 "metadata": {
  "kernelspec": {
   "display_name": "Python 3",
   "language": "python",
   "name": "python3"
  },
  "language_info": {
   "codemirror_mode": {
    "name": "ipython",
    "version": 3
   },
   "file_extension": ".py",
   "mimetype": "text/x-python",
   "name": "python",
   "nbconvert_exporter": "python",
   "pygments_lexer": "ipython3",
   "version": "3.7.4"
  }
 },
 "nbformat": 4,
 "nbformat_minor": 2
}
