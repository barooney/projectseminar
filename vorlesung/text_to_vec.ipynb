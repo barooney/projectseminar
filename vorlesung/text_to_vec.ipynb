{
 "cells": [
  {
   "cell_type": "code",
   "execution_count": 9,
   "metadata": {},
   "outputs": [
    {
     "name": "stdout",
     "output_type": "stream",
     "text": "[\"it's\", 'outside', 'as', 'best', 'i', 'find', 'have', 'hot', 'you', 'box', 'beverages', 'the', 'to', 'are', 'really', 'christmas', 'boxes', 'wrapped', 'presents', 'prefer', 'think', 'cold']\n22\n"
    }
   ],
   "source": [
    "import numpy as np\n",
    "from collections import Counter\n",
    "\n",
    "texts = [\n",
    "    \n",
    "    \"it's really really cold outside\",\n",
    "    \"i prefer hot beverages to cold beverages\",\n",
    "    \"to find the best beverages you have to think outside the box\",\n",
    "    \"christmas boxes are wrapped as presents\"\n",
    "    \n",
    "]\n",
    "\n",
    "\n",
    "vocab = []\n",
    "for each_sentence in texts:\n",
    "    current_words = each_sentence.split()\n",
    "    #print('all', current_words)\n",
    "    unique_words = list(set(current_words))\n",
    "    #print('unique', unique_words)\n",
    "    for each_w in unique_words:\n",
    "        if each_w not in vocab:\n",
    "            vocab.append(each_w)\n",
    "\n",
    "#ich\n",
    "test_vocab = list(set([word for sentence in texts for word in sentence.split()]))\n",
    "\n",
    "print(test_vocab)\n",
    "print(len(test_vocab))"
   ]
  },
  {
   "cell_type": "code",
   "execution_count": 2,
   "metadata": {},
   "outputs": [
    {
     "name": "stdout",
     "output_type": "stream",
     "text": "['really', \"it's\", 'cold', 'outside', 'hot', 'to', 'prefer', 'beverages', 'i', 'the', 'box', 'find', 'best', 'you', 'think', 'have', 'boxes', 'presents', 'christmas', 'wrapped', 'as', 'are']\n22\n['boxes', 'presents', 'christmas', 'wrapped', 'as', 'are']\n"
    }
   ],
   "source": [
    "print(vocab)\n",
    "print(len(vocab))\n",
    "#ich\n",
    "#print(unique_words)"
   ]
  },
  {
   "cell_type": "code",
   "execution_count": null,
   "metadata": {},
   "outputs": [],
   "source": [
    "# \"it's coldish outside\"\n",
    "# [0, 1, 1, 0, 0, 0, 0, 0, 0, 0, 0, 0, -> len up to 22]\n",
    "# non-existing words are ignored"
   ]
  },
  {
   "cell_type": "code",
   "execution_count": 15,
   "metadata": {},
   "outputs": [],
   "source": [
    "def binary_encode(sentence):\n",
    "    # represent input sentence via matrix with zeros\n",
    "    # here, matrix is 1D, which means that it's a vector\n",
    "    encoding = np.zeros(len(vocab))\n",
    "    # get all unique words to check whether they are in vocab or not (for the current sent.)\n",
    "    words = set(sentence.split())\n",
    "    # check if word is in our vocab\n",
    "    for num, each_w in enumerate(vocab):\n",
    "        if each_w in words:\n",
    "            encoding[num] = 1\n",
    "    return encoding\n",
    "\n",
    "\n",
    "def frequ_encode(sentence):\n",
    "    encoding = np.zeros(len(vocab))\n",
    "    words = set(sentence.split())\n",
    "    newCounter = Counter(sentence.split())\n",
    "    print(newCounter)\n",
    "    for num, each_w in enumerate(vocab):\n",
    "        if each_w in words:\n",
    "            encoding[num] = newCounter[each_w]\n",
    "    return encoding"
   ]
  },
  {
   "cell_type": "code",
   "execution_count": 16,
   "metadata": {},
   "outputs": [
    {
     "name": "stdout",
     "output_type": "stream",
     "text": "Counter({'to': 2, 'the': 2, 'find': 1, 'best': 1, 'beverages': 1, 'you': 1, 'have': 1, 'think': 1, 'outside': 1, 'box': 1})\n"
    },
    {
     "data": {
      "text/plain": "array([0., 0., 1., 0., 0., 2., 0., 0., 1., 1., 1., 1., 1., 1., 1., 2., 0.,\n       0., 0., 0., 0., 0.])"
     },
     "execution_count": 16,
     "metadata": {},
     "output_type": "execute_result"
    }
   ],
   "source": [
    "frequ_encode(\"to find the best beverages you have to think outside the box\")"
   ]
  },
  {
   "cell_type": "code",
   "execution_count": 4,
   "metadata": {},
   "outputs": [
    {
     "data": {
      "text/plain": "array([0., 0., 1., 0., 0., 1., 0., 0., 1., 1., 1., 1., 1., 1., 1., 1., 0.,\n       0., 0., 0., 0., 0.])"
     },
     "execution_count": 4,
     "metadata": {},
     "output_type": "execute_result"
    }
   ],
   "source": [
    "binary_encode(\"it's coldish outside\")\n",
    "#\n",
    "binary_encode(\"to find the best beverages you have to think outside the box\")"
   ]
  },
  {
   "cell_type": "code",
   "execution_count": 5,
   "metadata": {},
   "outputs": [
    {
     "data": {
      "text/plain": "CountVectorizer(analyzer='word', binary=True, decode_error='strict',\n                dtype=<class 'numpy.int64'>, encoding='utf-8', input='content',\n                lowercase=True, max_df=1.0, max_features=None, min_df=1,\n                ngram_range=(1, 1), preprocessor=None, stop_words=None,\n                strip_accents=None, token_pattern='(?u)\\\\b\\\\w\\\\w+\\\\b',\n                tokenizer=None, vocabulary=None)"
     },
     "execution_count": 5,
     "metadata": {},
     "output_type": "execute_result"
    }
   ],
   "source": [
    "from sklearn.feature_extraction.text import CountVectorizer\n",
    "\n",
    "vectorizer = CountVectorizer(binary=True)\n",
    "vectorizer.fit(texts)\n",
    "\n",
    "\n"
   ]
  },
  {
   "cell_type": "code",
   "execution_count": 7,
   "metadata": {},
   "outputs": [
    {
     "data": {
      "text/plain": "dict_keys(['it', 'really', 'cold', 'outside', 'prefer', 'hot', 'beverages', 'to', 'find', 'the', 'best', 'you', 'have', 'think', 'box', 'christmas', 'boxes', 'are', 'wrapped', 'as', 'presents'])"
     },
     "execution_count": 7,
     "metadata": {},
     "output_type": "execute_result"
    }
   ],
   "source": [
    "vectorizer.vocabulary_.keys()"
   ]
  },
  {
   "cell_type": "code",
   "execution_count": 29,
   "metadata": {},
   "outputs": [
    {
     "data": {
      "text/plain": [
       "['are',\n",
       " 'as',\n",
       " 'best',\n",
       " 'beverages',\n",
       " 'box',\n",
       " 'boxes',\n",
       " 'christmas',\n",
       " 'cold',\n",
       " 'find',\n",
       " 'have',\n",
       " 'hot',\n",
       " 'it',\n",
       " 'outside',\n",
       " 'prefer',\n",
       " 'presents',\n",
       " 'really',\n",
       " 'the',\n",
       " 'think',\n",
       " 'to',\n",
       " 'wrapped',\n",
       " 'you']"
      ]
     },
     "execution_count": 29,
     "metadata": {},
     "output_type": "execute_result"
    }
   ],
   "source": [
    "vectorizer.get_feature_names()"
   ]
  },
  {
   "cell_type": "code",
   "execution_count": 8,
   "metadata": {},
   "outputs": [
    {
     "name": "stdout",
     "output_type": "stream",
     "text": "(0, 7)\t1\n  (0, 11)\t1\n  (0, 12)\t1\n  (0, 15)\t1\n  (1, 3)\t1\n  (1, 7)\t1\n  (1, 10)\t1\n  (1, 13)\t1\n  (1, 18)\t1\n  (2, 2)\t1\n  (2, 3)\t1\n  (2, 4)\t1\n  (2, 8)\t1\n  (2, 9)\t1\n  (2, 12)\t1\n  (2, 16)\t1\n  (2, 17)\t1\n  (2, 18)\t1\n  (2, 20)\t1\n  (3, 0)\t1\n  (3, 1)\t1\n  (3, 5)\t1\n  (3, 6)\t1\n  (3, 14)\t1\n  (3, 19)\t1\n"
    }
   ],
   "source": [
    "print(vectorizer.transform(texts))"
   ]
  },
  {
   "cell_type": "code",
   "execution_count": 34,
   "metadata": {},
   "outputs": [
    {
     "data": {
      "text/html": [
       "<div>\n",
       "<style scoped>\n",
       "    .dataframe tbody tr th:only-of-type {\n",
       "        vertical-align: middle;\n",
       "    }\n",
       "\n",
       "    .dataframe tbody tr th {\n",
       "        vertical-align: top;\n",
       "    }\n",
       "\n",
       "    .dataframe thead th {\n",
       "        text-align: right;\n",
       "    }\n",
       "</style>\n",
       "<table border=\"1\" class=\"dataframe\">\n",
       "  <thead>\n",
       "    <tr style=\"text-align: right;\">\n",
       "      <th></th>\n",
       "      <th>are</th>\n",
       "      <th>as</th>\n",
       "      <th>best</th>\n",
       "      <th>beverages</th>\n",
       "      <th>box</th>\n",
       "      <th>boxes</th>\n",
       "      <th>christmas</th>\n",
       "      <th>cold</th>\n",
       "      <th>find</th>\n",
       "      <th>have</th>\n",
       "      <th>...</th>\n",
       "      <th>it</th>\n",
       "      <th>outside</th>\n",
       "      <th>prefer</th>\n",
       "      <th>presents</th>\n",
       "      <th>really</th>\n",
       "      <th>the</th>\n",
       "      <th>think</th>\n",
       "      <th>to</th>\n",
       "      <th>wrapped</th>\n",
       "      <th>you</th>\n",
       "    </tr>\n",
       "  </thead>\n",
       "  <tbody>\n",
       "    <tr>\n",
       "      <td>0</td>\n",
       "      <td>0</td>\n",
       "      <td>0</td>\n",
       "      <td>0</td>\n",
       "      <td>0</td>\n",
       "      <td>0</td>\n",
       "      <td>0</td>\n",
       "      <td>0</td>\n",
       "      <td>1</td>\n",
       "      <td>0</td>\n",
       "      <td>0</td>\n",
       "      <td>...</td>\n",
       "      <td>1</td>\n",
       "      <td>1</td>\n",
       "      <td>0</td>\n",
       "      <td>0</td>\n",
       "      <td>1</td>\n",
       "      <td>0</td>\n",
       "      <td>0</td>\n",
       "      <td>0</td>\n",
       "      <td>0</td>\n",
       "      <td>0</td>\n",
       "    </tr>\n",
       "    <tr>\n",
       "      <td>1</td>\n",
       "      <td>0</td>\n",
       "      <td>0</td>\n",
       "      <td>0</td>\n",
       "      <td>1</td>\n",
       "      <td>0</td>\n",
       "      <td>0</td>\n",
       "      <td>0</td>\n",
       "      <td>1</td>\n",
       "      <td>0</td>\n",
       "      <td>0</td>\n",
       "      <td>...</td>\n",
       "      <td>0</td>\n",
       "      <td>0</td>\n",
       "      <td>1</td>\n",
       "      <td>0</td>\n",
       "      <td>0</td>\n",
       "      <td>0</td>\n",
       "      <td>0</td>\n",
       "      <td>1</td>\n",
       "      <td>0</td>\n",
       "      <td>0</td>\n",
       "    </tr>\n",
       "    <tr>\n",
       "      <td>2</td>\n",
       "      <td>0</td>\n",
       "      <td>0</td>\n",
       "      <td>1</td>\n",
       "      <td>1</td>\n",
       "      <td>1</td>\n",
       "      <td>0</td>\n",
       "      <td>0</td>\n",
       "      <td>0</td>\n",
       "      <td>1</td>\n",
       "      <td>1</td>\n",
       "      <td>...</td>\n",
       "      <td>0</td>\n",
       "      <td>1</td>\n",
       "      <td>0</td>\n",
       "      <td>0</td>\n",
       "      <td>0</td>\n",
       "      <td>1</td>\n",
       "      <td>1</td>\n",
       "      <td>1</td>\n",
       "      <td>0</td>\n",
       "      <td>1</td>\n",
       "    </tr>\n",
       "    <tr>\n",
       "      <td>3</td>\n",
       "      <td>1</td>\n",
       "      <td>1</td>\n",
       "      <td>0</td>\n",
       "      <td>0</td>\n",
       "      <td>0</td>\n",
       "      <td>1</td>\n",
       "      <td>1</td>\n",
       "      <td>0</td>\n",
       "      <td>0</td>\n",
       "      <td>0</td>\n",
       "      <td>...</td>\n",
       "      <td>0</td>\n",
       "      <td>0</td>\n",
       "      <td>0</td>\n",
       "      <td>1</td>\n",
       "      <td>0</td>\n",
       "      <td>0</td>\n",
       "      <td>0</td>\n",
       "      <td>0</td>\n",
       "      <td>1</td>\n",
       "      <td>0</td>\n",
       "    </tr>\n",
       "  </tbody>\n",
       "</table>\n",
       "<p>4 rows × 21 columns</p>\n",
       "</div>"
      ],
      "text/plain": [
       "   are  as  best  beverages  box  boxes  christmas  cold  find  have  ...  it  \\\n",
       "0    0   0     0          0    0      0          0     1     0     0  ...   1   \n",
       "1    0   0     0          1    0      0          0     1     0     0  ...   0   \n",
       "2    0   0     1          1    1      0          0     0     1     1  ...   0   \n",
       "3    1   1     0          0    0      1          1     0     0     0  ...   0   \n",
       "\n",
       "   outside  prefer  presents  really  the  think  to  wrapped  you  \n",
       "0        1       0         0       1    0      0   0        0    0  \n",
       "1        0       1         0       0    0      0   1        0    0  \n",
       "2        1       0         0       0    1      1   1        0    1  \n",
       "3        0       0         1       0    0      0   0        1    0  \n",
       "\n",
       "[4 rows x 21 columns]"
      ]
     },
     "execution_count": 34,
     "metadata": {},
     "output_type": "execute_result"
    }
   ],
   "source": [
    "import pandas as pd\n",
    "\n",
    "\n",
    "pd.DataFrame(vectorizer.transform(texts).toarray(), columns=sorted(vectorizer.vocabulary_.keys()))\n"
   ]
  },
  {
   "cell_type": "code",
   "execution_count": 39,
   "metadata": {},
   "outputs": [],
   "source": [
    "texts_tfidf = [\n",
    "    \n",
    "    \"the weather today is the worst within the history of mankind\",\n",
    "    \"the largest state in the US is Alaska\",\n",
    "    \"the the something here the the\",\n",
    "    \"this is the the is this\"\n",
    "    \n",
    "]"
   ]
  },
  {
   "cell_type": "code",
   "execution_count": 40,
   "metadata": {},
   "outputs": [
    {
     "data": {
      "text/html": [
       "<div>\n",
       "<style scoped>\n",
       "    .dataframe tbody tr th:only-of-type {\n",
       "        vertical-align: middle;\n",
       "    }\n",
       "\n",
       "    .dataframe tbody tr th {\n",
       "        vertical-align: top;\n",
       "    }\n",
       "\n",
       "    .dataframe thead th {\n",
       "        text-align: right;\n",
       "    }\n",
       "</style>\n",
       "<table border=\"1\" class=\"dataframe\">\n",
       "  <thead>\n",
       "    <tr style=\"text-align: right;\">\n",
       "      <th></th>\n",
       "      <th>alaska</th>\n",
       "      <th>here</th>\n",
       "      <th>history</th>\n",
       "      <th>in</th>\n",
       "      <th>is</th>\n",
       "      <th>largest</th>\n",
       "      <th>mankind</th>\n",
       "      <th>of</th>\n",
       "      <th>something</th>\n",
       "      <th>state</th>\n",
       "      <th>the</th>\n",
       "      <th>this</th>\n",
       "      <th>today</th>\n",
       "      <th>us</th>\n",
       "      <th>weather</th>\n",
       "      <th>within</th>\n",
       "      <th>worst</th>\n",
       "    </tr>\n",
       "  </thead>\n",
       "  <tbody>\n",
       "    <tr>\n",
       "      <td>0</td>\n",
       "      <td>0.000000</td>\n",
       "      <td>0.000000</td>\n",
       "      <td>0.318493</td>\n",
       "      <td>0.000000</td>\n",
       "      <td>0.203290</td>\n",
       "      <td>0.000000</td>\n",
       "      <td>0.318493</td>\n",
       "      <td>0.318493</td>\n",
       "      <td>0.000000</td>\n",
       "      <td>0.000000</td>\n",
       "      <td>0.498608</td>\n",
       "      <td>0.000000</td>\n",
       "      <td>0.318493</td>\n",
       "      <td>0.000000</td>\n",
       "      <td>0.318493</td>\n",
       "      <td>0.318493</td>\n",
       "      <td>0.318493</td>\n",
       "    </tr>\n",
       "    <tr>\n",
       "      <td>1</td>\n",
       "      <td>0.392332</td>\n",
       "      <td>0.000000</td>\n",
       "      <td>0.000000</td>\n",
       "      <td>0.392332</td>\n",
       "      <td>0.250421</td>\n",
       "      <td>0.392332</td>\n",
       "      <td>0.000000</td>\n",
       "      <td>0.000000</td>\n",
       "      <td>0.000000</td>\n",
       "      <td>0.392332</td>\n",
       "      <td>0.409471</td>\n",
       "      <td>0.000000</td>\n",
       "      <td>0.000000</td>\n",
       "      <td>0.392332</td>\n",
       "      <td>0.000000</td>\n",
       "      <td>0.000000</td>\n",
       "      <td>0.000000</td>\n",
       "    </tr>\n",
       "    <tr>\n",
       "      <td>2</td>\n",
       "      <td>0.000000</td>\n",
       "      <td>0.396616</td>\n",
       "      <td>0.000000</td>\n",
       "      <td>0.000000</td>\n",
       "      <td>0.000000</td>\n",
       "      <td>0.000000</td>\n",
       "      <td>0.000000</td>\n",
       "      <td>0.000000</td>\n",
       "      <td>0.396616</td>\n",
       "      <td>0.000000</td>\n",
       "      <td>0.827883</td>\n",
       "      <td>0.000000</td>\n",
       "      <td>0.000000</td>\n",
       "      <td>0.000000</td>\n",
       "      <td>0.000000</td>\n",
       "      <td>0.000000</td>\n",
       "      <td>0.000000</td>\n",
       "    </tr>\n",
       "    <tr>\n",
       "      <td>3</td>\n",
       "      <td>0.000000</td>\n",
       "      <td>0.000000</td>\n",
       "      <td>0.000000</td>\n",
       "      <td>0.000000</td>\n",
       "      <td>0.492489</td>\n",
       "      <td>0.000000</td>\n",
       "      <td>0.000000</td>\n",
       "      <td>0.000000</td>\n",
       "      <td>0.000000</td>\n",
       "      <td>0.000000</td>\n",
       "      <td>0.402642</td>\n",
       "      <td>0.771579</td>\n",
       "      <td>0.000000</td>\n",
       "      <td>0.000000</td>\n",
       "      <td>0.000000</td>\n",
       "      <td>0.000000</td>\n",
       "      <td>0.000000</td>\n",
       "    </tr>\n",
       "  </tbody>\n",
       "</table>\n",
       "</div>"
      ],
      "text/plain": [
       "     alaska      here   history        in        is   largest   mankind  \\\n",
       "0  0.000000  0.000000  0.318493  0.000000  0.203290  0.000000  0.318493   \n",
       "1  0.392332  0.000000  0.000000  0.392332  0.250421  0.392332  0.000000   \n",
       "2  0.000000  0.396616  0.000000  0.000000  0.000000  0.000000  0.000000   \n",
       "3  0.000000  0.000000  0.000000  0.000000  0.492489  0.000000  0.000000   \n",
       "\n",
       "         of  something     state       the      this     today        us  \\\n",
       "0  0.318493   0.000000  0.000000  0.498608  0.000000  0.318493  0.000000   \n",
       "1  0.000000   0.000000  0.392332  0.409471  0.000000  0.000000  0.392332   \n",
       "2  0.000000   0.396616  0.000000  0.827883  0.000000  0.000000  0.000000   \n",
       "3  0.000000   0.000000  0.000000  0.402642  0.771579  0.000000  0.000000   \n",
       "\n",
       "    weather    within     worst  \n",
       "0  0.318493  0.318493  0.318493  \n",
       "1  0.000000  0.000000  0.000000  \n",
       "2  0.000000  0.000000  0.000000  \n",
       "3  0.000000  0.000000  0.000000  "
      ]
     },
     "execution_count": 40,
     "metadata": {},
     "output_type": "execute_result"
    }
   ],
   "source": [
    "from sklearn.feature_extraction.text import TfidfVectorizer\n",
    "\n",
    "tfidf_vectorizer = TfidfVectorizer()\n",
    "tfidf_vectorizer.fit(texts_tfidf)\n",
    "\n",
    "pd.DataFrame(tfidf_vectorizer.transform(texts_tfidf).toarray(), columns=sorted(tfidf_vectorizer.vocabulary_.keys()))"
   ]
  },
  {
   "cell_type": "code",
   "execution_count": null,
   "metadata": {},
   "outputs": [],
   "source": []
  },
  {
   "cell_type": "code",
   "execution_count": null,
   "metadata": {},
   "outputs": [],
   "source": []
  },
  {
   "cell_type": "code",
   "execution_count": null,
   "metadata": {},
   "outputs": [],
   "source": []
  },
  {
   "cell_type": "code",
   "execution_count": null,
   "metadata": {},
   "outputs": [],
   "source": []
  },
  {
   "cell_type": "code",
   "execution_count": null,
   "metadata": {},
   "outputs": [],
   "source": []
  },
  {
   "cell_type": "code",
   "execution_count": 13,
   "metadata": {},
   "outputs": [],
   "source": [
    "multidimensional_array = np.eye(3)"
   ]
  },
  {
   "cell_type": "code",
   "execution_count": 15,
   "metadata": {},
   "outputs": [
    {
     "data": {
      "text/plain": [
       "(3, 3)"
      ]
     },
     "execution_count": 15,
     "metadata": {},
     "output_type": "execute_result"
    }
   ],
   "source": [
    "multidimensional_array.shape # 3 x 3"
   ]
  },
  {
   "cell_type": "code",
   "execution_count": 16,
   "metadata": {},
   "outputs": [
    {
     "data": {
      "text/plain": [
       "(22,)"
      ]
     },
     "execution_count": 16,
     "metadata": {},
     "output_type": "execute_result"
    }
   ],
   "source": [
    "np.zeros(22).shape # 1 x 22"
   ]
  },
  {
   "cell_type": "code",
   "execution_count": 23,
   "metadata": {},
   "outputs": [
    {
     "data": {
      "text/plain": [
       "array([[1., 0., 0.],\n",
       "       [0., 1., 0.],\n",
       "       [0., 0., 1.]])"
      ]
     },
     "execution_count": 23,
     "metadata": {},
     "output_type": "execute_result"
    }
   ],
   "source": [
    "multidimensional_array[:, :]"
   ]
  },
  {
   "cell_type": "code",
   "execution_count": null,
   "metadata": {},
   "outputs": [],
   "source": []
  },
  {
   "cell_type": "code",
   "execution_count": null,
   "metadata": {},
   "outputs": [],
   "source": []
  },
  {
   "cell_type": "code",
   "execution_count": null,
   "metadata": {},
   "outputs": [],
   "source": []
  },
  {
   "cell_type": "code",
   "execution_count": null,
   "metadata": {},
   "outputs": [],
   "source": []
  },
  {
   "cell_type": "code",
   "execution_count": null,
   "metadata": {},
   "outputs": [],
   "source": []
  },
  {
   "cell_type": "code",
   "execution_count": null,
   "metadata": {},
   "outputs": [],
   "source": []
  },
  {
   "cell_type": "code",
   "execution_count": null,
   "metadata": {},
   "outputs": [],
   "source": []
  },
  {
   "cell_type": "code",
   "execution_count": null,
   "metadata": {},
   "outputs": [],
   "source": []
  }
 ],
 "metadata": {
  "kernelspec": {
   "display_name": "Python 3",
   "language": "python",
   "name": "python3"
  },
  "language_info": {
   "codemirror_mode": {
    "name": "ipython",
    "version": 3
   },
   "file_extension": ".py",
   "mimetype": "text/x-python",
   "name": "python",
   "nbconvert_exporter": "python",
   "pygments_lexer": "ipython3",
   "version": "3.7.4-final"
  }
 },
 "nbformat": 4,
 "nbformat_minor": 2
}