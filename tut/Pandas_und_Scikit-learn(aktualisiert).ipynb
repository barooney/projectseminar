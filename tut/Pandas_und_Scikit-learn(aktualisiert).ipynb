{
 "cells": [
  {
   "cell_type": "markdown",
   "metadata": {},
   "source": [
    "# Ein kurzer  Einblick: Pandas und Scikit-learn\n",
    "\n",
    "\n",
    "--> vgl. für die Dokumentation von Pandas z.B. https://pandas.pydata.org/pandas-docs/stable/\n",
    "\n",
    "--> vgl. für die Dokumentation von scikit-learn z.B. : https://scikit-learn.org/stable/index.html\n",
    "\n",
    "--> vgl. zum Iris flower Datensatz z.B. https://en.wikipedia.org/wiki/Iris_flower_data_set\n",
    "\n",
    "- zum Iris flower Datensatz gibt es sehr viel Dokumentation\n",
    "- eignet sich daher gut zum \"Herumspielen\", Kennenlernen, Testen von Methoden"
   ]
  },
  {
   "cell_type": "code",
   "execution_count": null,
   "metadata": {},
   "outputs": [],
   "source": [
    "import pandas as pd\n",
    "import numpy as np"
   ]
  },
  {
   "cell_type": "code",
   "execution_count": null,
   "metadata": {},
   "outputs": [],
   "source": [
    "#mit read_csv eine CSV-Datei einlesen\n",
    "\n",
    "data = pd.read_csv(\"iris.csv\") \n",
    "\n",
    "# (mit to_csv in eine CSV-Datei schreiben)"
   ]
  },
  {
   "cell_type": "code",
   "execution_count": null,
   "metadata": {},
   "outputs": [],
   "source": [
    "# info zeigt uns ein paar Informationen über den Datensatz\n",
    "\n",
    "data.info() "
   ]
  },
  {
   "cell_type": "code",
   "execution_count": null,
   "metadata": {},
   "outputs": [],
   "source": [
    "# DataFrame = zweidimensionales Array (Zeilen und Spalten)\n",
    "# Series = eindimensionales Array (eine Spalte) "
   ]
  },
  {
   "cell_type": "code",
   "execution_count": null,
   "metadata": {},
   "outputs": [],
   "source": [
    "# Zeilen?\n",
    "\n",
    "data.axes[0]"
   ]
  },
  {
   "cell_type": "code",
   "execution_count": null,
   "metadata": {},
   "outputs": [],
   "source": [
    "# Spalten? \n",
    "\n",
    "#data.axes[1]\n",
    "\n",
    "# oder auch: \n",
    "#data.keys()\n",
    "# data.columns"
   ]
  },
  {
   "cell_type": "code",
   "execution_count": null,
   "metadata": {},
   "outputs": [],
   "source": [
    "print(\"Anzahl der Zeilen: \" + str(len(data.axes[0])))\n",
    "print(\"Anzahl der Spalten: \" + str(len(data.axes[1])))"
   ]
  },
  {
   "cell_type": "code",
   "execution_count": null,
   "metadata": {},
   "outputs": [],
   "source": [
    "# shape zeigt uns die Dimension des Datensatzes (Zeilen,Spalten)\n",
    "\n",
    "data.shape \n",
    "\n",
    "# für die Zeilen:\n",
    "#data.shape[0] \n",
    "\n",
    "# für die Spalten: \n",
    "#data.shape[1]"
   ]
  },
  {
   "cell_type": "code",
   "execution_count": null,
   "metadata": {},
   "outputs": [],
   "source": [
    "# Gibt es fehlende Werte in unserem Datensatz?\n",
    "\n",
    "#data.isnull()\n",
    "data.isnull().sum()"
   ]
  },
  {
   "cell_type": "code",
   "execution_count": null,
   "metadata": {},
   "outputs": [],
   "source": [
    "# Die Daten einer bestimmten Spalte anzeigen lassen:\n",
    "\n",
    "data['SepalLengthCm']"
   ]
  },
  {
   "cell_type": "code",
   "execution_count": null,
   "metadata": {},
   "outputs": [],
   "source": [
    "# head: die ersten 5 Zeilen anzeigen\n",
    "\n",
    "data.head() "
   ]
  },
  {
   "cell_type": "code",
   "execution_count": null,
   "metadata": {},
   "outputs": [],
   "source": [
    "# tail: die letzten 5 Zeilen anzeigen\n",
    "\n",
    "data.tail()"
   ]
  },
  {
   "cell_type": "code",
   "execution_count": null,
   "metadata": {},
   "outputs": [],
   "source": [
    "# Die ersten drei Zeilen anzeigen lassen:\n",
    "\n",
    "data[0:3] "
   ]
  },
  {
   "cell_type": "code",
   "execution_count": null,
   "metadata": {},
   "outputs": [],
   "source": [
    "# nur die Blumen enzeigen lassen mit SepalLengthCm > 7\n",
    "\n",
    "data[data['SepalLengthCm'] > 7]"
   ]
  },
  {
   "cell_type": "code",
   "execution_count": null,
   "metadata": {},
   "outputs": [],
   "source": [
    "# nur die Blumen enzeigen lassen mit PetalLengthCm zwischen 5.5 und 6\n",
    "\n",
    "data[data['PetalLengthCm'].between(5.5, 6)]"
   ]
  },
  {
   "cell_type": "code",
   "execution_count": null,
   "metadata": {},
   "outputs": [],
   "source": [
    "# Der Mittelwert von PetalWidthCm:\n",
    "\n",
    "data['PetalWidthCm'].mean()"
   ]
  },
  {
   "cell_type": "code",
   "execution_count": null,
   "metadata": {},
   "outputs": [],
   "source": [
    "# auch praktisch: describe gibt uns ein paar statistische Werte\n",
    "\n",
    "data.describe()"
   ]
  },
  {
   "cell_type": "code",
   "execution_count": null,
   "metadata": {},
   "outputs": [],
   "source": [
    "# iloc \n",
    "# um Daten nach Zeilen- oder Spaltenindex auszuwählen \n",
    "\n",
    "#data.iloc[0] # erste Zeile\n",
    "#data.iloc[1] # zweite Zeile\n",
    "#data.iloc[-1] #  letzte Zeile \n",
    "#data.iloc[0:5] # die ersten fünf Zeilen \n",
    "\n",
    "#data.iloc[:,0] # erste Spalte\n",
    "#data.iloc[:,1] # zweite Spalte\n",
    "#data.iloc[:,-1] # letzte Spalte\n",
    "\n",
    "data.iloc[:, 0:2] # nur die ersten beiden Spalten, aber alle Zeilen\n",
    "#data.iloc[[0,3,6,24], [1,3,5]] # 1., 4., 7., 25. Zeile + 2., 4., 6. Spalte\n",
    "#data.iloc[0:5, 0:3] # die ersten fünf Zeilen,  die ersten drei Spalten"
   ]
  },
  {
   "cell_type": "code",
   "execution_count": null,
   "metadata": {},
   "outputs": [],
   "source": [
    "# loc \n",
    "# um Daten nach einem Label (oder anhand einer Bedingung) auszuwählen\n",
    "\n",
    "#data.loc[:,['SepalLengthCm']] #alle Zeilen der gewählten Spalte \n",
    "#data.loc[:4,['SepalLengthCm']] # die ersten fünf Zeilen der gewählten Spalte \n",
    "\n",
    "spec = data.set_index('Species')\n",
    "print(spec.loc['Iris-virginica']) # Alle, die zur Spezies Iris-virginica gehören  "
   ]
  },
  {
   "cell_type": "code",
   "execution_count": null,
   "metadata": {},
   "outputs": [],
   "source": [
    "# loc aber auch um Daten hinzuzufügen oder zu verändern: \n",
    "\n",
    "data.loc['150'] = [151, 5.1, 3.5, 1.4, 0.2, 'Iris-neu']\n",
    "print(data)\n",
    "\n",
    "# aber lieber wieder löschen:\n",
    "data = data.drop('150')\n",
    "print(data)"
   ]
  },
  {
   "cell_type": "code",
   "execution_count": null,
   "metadata": {},
   "outputs": [],
   "source": [
    "# ... und es gibt noch viele weitere coole Methoden :-) "
   ]
  },
  {
   "cell_type": "code",
   "execution_count": null,
   "metadata": {},
   "outputs": [],
   "source": [
    "data"
   ]
  },
  {
   "cell_type": "markdown",
   "metadata": {},
   "source": [
    "--------------------\n",
    "\n",
    "# Daten klassifizieren mit Pandas und Scikit-learn"
   ]
  },
  {
   "cell_type": "code",
   "execution_count": 1,
   "metadata": {},
   "outputs": [],
   "source": [
    "import pandas as pd\n",
    "import numpy as np\n",
    "\n",
    "data = pd.read_csv(\"iris.csv\") "
   ]
  },
  {
   "cell_type": "markdown",
   "metadata": {},
   "source": [
    "###  --> Den Datensatz in eine zufällige Reihenfolge bringen / shuffeln:"
   ]
  },
  {
   "cell_type": "code",
   "execution_count": 2,
   "metadata": {},
   "outputs": [],
   "source": [
    "# mit Pandas:\n",
    "data = data.sample(frac=1)"
   ]
  },
  {
   "cell_type": "code",
   "execution_count": 3,
   "metadata": {},
   "outputs": [],
   "source": [
    "# oder mit sklearn:\n",
    "from sklearn.utils import shuffle\n",
    "data = shuffle(data)"
   ]
  },
  {
   "cell_type": "code",
   "execution_count": 4,
   "metadata": {},
   "outputs": [
    {
     "data": {
      "text/plain": [
       "(150, 6)"
      ]
     },
     "execution_count": 4,
     "metadata": {},
     "output_type": "execute_result"
    }
   ],
   "source": [
    "data.shape"
   ]
  },
  {
   "cell_type": "markdown",
   "metadata": {},
   "source": [
    "### --> Den Datensatz aufteilen in Merkmale und Label:"
   ]
  },
  {
   "cell_type": "code",
   "execution_count": 5,
   "metadata": {},
   "outputs": [
    {
     "name": "stdout",
     "output_type": "stream",
     "text": [
      "Attributes:\n",
      " [[5.8 2.7 5.1 1.9]\n",
      " [5.  3.5 1.6 0.6]\n",
      " [4.9 3.1 1.5 0.1]\n",
      " [5.8 4.  1.2 0.2]\n",
      " [5.7 3.8 1.7 0.3]\n",
      " [6.5 3.2 5.1 2. ]\n",
      " [7.2 3.  5.8 1.6]\n",
      " [6.5 3.  5.5 1.8]\n",
      " [6.4 2.7 5.3 1.9]\n",
      " [5.4 3.4 1.7 0.2]\n",
      " [6.8 2.8 4.8 1.4]\n",
      " [6.4 2.9 4.3 1.3]\n",
      " [5.4 3.7 1.5 0.2]\n",
      " [4.7 3.2 1.3 0.2]\n",
      " [5.4 3.  4.5 1.5]\n",
      " [5.1 3.5 1.4 0.2]\n",
      " [5.2 3.4 1.4 0.2]\n",
      " [7.  3.2 4.7 1.4]\n",
      " [5.8 2.7 5.1 1.9]\n",
      " [7.3 2.9 6.3 1.8]\n",
      " [5.6 3.  4.1 1.3]\n",
      " [6.5 2.8 4.6 1.5]\n",
      " [6.3 3.3 4.7 1.6]\n",
      " [7.4 2.8 6.1 1.9]\n",
      " [5.1 3.4 1.5 0.2]\n",
      " [7.2 3.6 6.1 2.5]\n",
      " [6.7 3.1 5.6 2.4]\n",
      " [6.3 3.3 6.  2.5]\n",
      " [5.4 3.9 1.7 0.4]\n",
      " [6.3 2.9 5.6 1.8]\n",
      " [6.7 3.  5.2 2.3]\n",
      " [6.7 3.1 4.4 1.4]\n",
      " [6.2 2.8 4.8 1.8]\n",
      " [5.5 2.4 3.8 1.1]\n",
      " [4.8 3.4 1.9 0.2]\n",
      " [5.7 3.  4.2 1.2]\n",
      " [5.3 3.7 1.5 0.2]\n",
      " [6.3 2.8 5.1 1.5]\n",
      " [6.8 3.2 5.9 2.3]\n",
      " [5.4 3.9 1.3 0.4]\n",
      " [5.7 2.6 3.5 1. ]\n",
      " [5.1 3.8 1.6 0.2]\n",
      " [7.7 3.8 6.7 2.2]\n",
      " [6.  3.4 4.5 1.6]\n",
      " [5.9 3.  4.2 1.5]\n",
      " [5.7 2.9 4.2 1.3]\n",
      " [5.6 2.7 4.2 1.3]\n",
      " [5.5 3.5 1.3 0.2]\n",
      " [6.3 2.5 5.  1.9]\n",
      " [6.  2.7 5.1 1.6]\n",
      " [4.4 3.2 1.3 0.2]\n",
      " [6.4 2.8 5.6 2.2]\n",
      " [6.2 2.9 4.3 1.3]\n",
      " [6.2 3.4 5.4 2.3]\n",
      " [5.  2.  3.5 1. ]\n",
      " [5.  3.4 1.5 0.2]\n",
      " [5.  3.5 1.3 0.3]\n",
      " [6.6 2.9 4.6 1.3]\n",
      " [4.9 3.1 1.5 0.1]\n",
      " [4.8 3.  1.4 0.1]\n",
      " [6.  2.9 4.5 1.5]\n",
      " [5.4 3.4 1.5 0.4]\n",
      " [5.5 2.5 4.  1.3]\n",
      " [6.7 2.5 5.8 1.8]\n",
      " [5.  2.3 3.3 1. ]\n",
      " [4.5 2.3 1.3 0.3]\n",
      " [4.6 3.6 1.  0.2]\n",
      " [5.1 2.5 3.  1.1]\n",
      " [5.8 2.7 3.9 1.2]\n",
      " [7.7 3.  6.1 2.3]\n",
      " [6.7 3.1 4.7 1.5]\n",
      " [6.5 3.  5.2 2. ]\n",
      " [5.7 2.8 4.1 1.3]\n",
      " [5.2 4.1 1.5 0.1]\n",
      " [6.7 3.3 5.7 2.5]\n",
      " [5.6 3.  4.5 1.5]\n",
      " [5.1 3.8 1.5 0.3]\n",
      " [4.9 2.5 4.5 1.7]\n",
      " [6.1 3.  4.9 1.8]\n",
      " [6.3 2.5 4.9 1.5]\n",
      " [5.  3.6 1.4 0.2]\n",
      " [5.  3.  1.6 0.2]\n",
      " [6.4 3.1 5.5 1.8]\n",
      " [6.6 3.  4.4 1.4]\n",
      " [5.9 3.  5.1 1.8]\n",
      " [5.7 2.8 4.5 1.3]\n",
      " [6.1 2.8 4.  1.3]\n",
      " [4.9 3.  1.4 0.2]\n",
      " [7.7 2.8 6.7 2. ]\n",
      " [6.5 3.  5.8 2.2]\n",
      " [6.9 3.1 4.9 1.5]\n",
      " [4.7 3.2 1.6 0.2]\n",
      " [5.5 4.2 1.4 0.2]\n",
      " [5.8 2.8 5.1 2.4]\n",
      " [7.6 3.  6.6 2.1]\n",
      " [6.3 2.3 4.4 1.3]\n",
      " [6.1 2.9 4.7 1.4]\n",
      " [4.6 3.4 1.4 0.3]\n",
      " [6.9 3.1 5.4 2.1]\n",
      " [6.  2.2 5.  1.5]\n",
      " [6.7 3.  5.  1.7]\n",
      " [6.8 3.  5.5 2.1]\n",
      " [5.1 3.3 1.7 0.5]\n",
      " [6.2 2.2 4.5 1.5]\n",
      " [4.4 3.  1.3 0.2]\n",
      " [5.  3.4 1.6 0.4]\n",
      " [5.  3.2 1.2 0.2]\n",
      " [5.8 2.6 4.  1.2]\n",
      " [5.8 2.7 4.1 1. ]\n",
      " [5.7 4.4 1.5 0.4]\n",
      " [6.9 3.1 5.1 2.3]\n",
      " [6.4 2.8 5.6 2.1]\n",
      " [4.8 3.  1.4 0.3]\n",
      " [6.7 3.3 5.7 2.1]\n",
      " [5.2 2.7 3.9 1.4]\n",
      " [5.5 2.6 4.4 1.2]\n",
      " [6.1 2.6 5.6 1.4]\n",
      " [4.4 2.9 1.4 0.2]\n",
      " [5.5 2.4 3.7 1. ]\n",
      " [6.1 3.  4.6 1.4]\n",
      " [5.5 2.3 4.  1.3]\n",
      " [4.6 3.2 1.4 0.2]\n",
      " [6.4 3.2 4.5 1.5]\n",
      " [4.6 3.1 1.5 0.2]\n",
      " [5.6 2.5 3.9 1.1]\n",
      " [7.7 2.6 6.9 2.3]\n",
      " [5.6 2.9 3.6 1.3]\n",
      " [5.2 3.5 1.5 0.2]\n",
      " [5.9 3.2 4.8 1.8]\n",
      " [4.9 2.4 3.3 1. ]\n",
      " [7.2 3.2 6.  1.8]\n",
      " [6.4 3.2 5.3 2.3]\n",
      " [5.  3.3 1.4 0.2]\n",
      " [4.8 3.1 1.6 0.2]\n",
      " [6.3 3.4 5.6 2.4]\n",
      " [6.3 2.7 4.9 1.8]\n",
      " [5.1 3.7 1.5 0.4]\n",
      " [4.3 3.  1.1 0.1]\n",
      " [4.9 3.1 1.5 0.1]\n",
      " [6.  3.  4.8 1.8]\n",
      " [5.1 3.8 1.9 0.4]\n",
      " [6.1 2.8 4.7 1.2]\n",
      " [4.8 3.4 1.6 0.2]\n",
      " [6.9 3.2 5.7 2.3]\n",
      " [6.  2.2 4.  1. ]\n",
      " [7.9 3.8 6.4 2. ]\n",
      " [5.1 3.5 1.4 0.3]\n",
      " [5.7 2.5 5.  2. ]\n",
      " [7.1 3.  5.9 2.1]\n",
      " [5.6 2.8 4.9 2. ]]\n",
      "\n",
      "Labels:\n",
      " ['Iris-virginica' 'Iris-setosa' 'Iris-setosa' 'Iris-setosa' 'Iris-setosa'\n",
      " 'Iris-virginica' 'Iris-virginica' 'Iris-virginica' 'Iris-virginica'\n",
      " 'Iris-setosa' 'Iris-versicolor' 'Iris-versicolor' 'Iris-setosa'\n",
      " 'Iris-setosa' 'Iris-versicolor' 'Iris-setosa' 'Iris-setosa'\n",
      " 'Iris-versicolor' 'Iris-virginica' 'Iris-virginica' 'Iris-versicolor'\n",
      " 'Iris-versicolor' 'Iris-versicolor' 'Iris-virginica' 'Iris-setosa'\n",
      " 'Iris-virginica' 'Iris-virginica' 'Iris-virginica' 'Iris-setosa'\n",
      " 'Iris-virginica' 'Iris-virginica' 'Iris-versicolor' 'Iris-virginica'\n",
      " 'Iris-versicolor' 'Iris-setosa' 'Iris-versicolor' 'Iris-setosa'\n",
      " 'Iris-virginica' 'Iris-virginica' 'Iris-setosa' 'Iris-versicolor'\n",
      " 'Iris-setosa' 'Iris-virginica' 'Iris-versicolor' 'Iris-versicolor'\n",
      " 'Iris-versicolor' 'Iris-versicolor' 'Iris-setosa' 'Iris-virginica'\n",
      " 'Iris-versicolor' 'Iris-setosa' 'Iris-virginica' 'Iris-versicolor'\n",
      " 'Iris-virginica' 'Iris-versicolor' 'Iris-setosa' 'Iris-setosa'\n",
      " 'Iris-versicolor' 'Iris-setosa' 'Iris-setosa' 'Iris-versicolor'\n",
      " 'Iris-setosa' 'Iris-versicolor' 'Iris-virginica' 'Iris-versicolor'\n",
      " 'Iris-setosa' 'Iris-setosa' 'Iris-versicolor' 'Iris-versicolor'\n",
      " 'Iris-virginica' 'Iris-versicolor' 'Iris-virginica' 'Iris-versicolor'\n",
      " 'Iris-setosa' 'Iris-virginica' 'Iris-versicolor' 'Iris-setosa'\n",
      " 'Iris-virginica' 'Iris-virginica' 'Iris-versicolor' 'Iris-setosa'\n",
      " 'Iris-setosa' 'Iris-virginica' 'Iris-versicolor' 'Iris-virginica'\n",
      " 'Iris-versicolor' 'Iris-versicolor' 'Iris-setosa' 'Iris-virginica'\n",
      " 'Iris-virginica' 'Iris-versicolor' 'Iris-setosa' 'Iris-setosa'\n",
      " 'Iris-virginica' 'Iris-virginica' 'Iris-versicolor' 'Iris-versicolor'\n",
      " 'Iris-setosa' 'Iris-virginica' 'Iris-virginica' 'Iris-versicolor'\n",
      " 'Iris-virginica' 'Iris-setosa' 'Iris-versicolor' 'Iris-setosa'\n",
      " 'Iris-setosa' 'Iris-setosa' 'Iris-versicolor' 'Iris-versicolor'\n",
      " 'Iris-setosa' 'Iris-virginica' 'Iris-virginica' 'Iris-setosa'\n",
      " 'Iris-virginica' 'Iris-versicolor' 'Iris-versicolor' 'Iris-virginica'\n",
      " 'Iris-setosa' 'Iris-versicolor' 'Iris-versicolor' 'Iris-versicolor'\n",
      " 'Iris-setosa' 'Iris-versicolor' 'Iris-setosa' 'Iris-versicolor'\n",
      " 'Iris-virginica' 'Iris-versicolor' 'Iris-setosa' 'Iris-versicolor'\n",
      " 'Iris-versicolor' 'Iris-virginica' 'Iris-virginica' 'Iris-setosa'\n",
      " 'Iris-setosa' 'Iris-virginica' 'Iris-virginica' 'Iris-setosa'\n",
      " 'Iris-setosa' 'Iris-setosa' 'Iris-virginica' 'Iris-setosa'\n",
      " 'Iris-versicolor' 'Iris-setosa' 'Iris-virginica' 'Iris-versicolor'\n",
      " 'Iris-virginica' 'Iris-setosa' 'Iris-virginica' 'Iris-virginica'\n",
      " 'Iris-virginica']\n"
     ]
    }
   ],
   "source": [
    "data = data.drop('Id', axis=1) # die Id-Spalte entfernen \n",
    "\n",
    "features = data.iloc[:, :-1].values # alle Zeilen, aber nicht die letzte Spalte \n",
    "labels = data.iloc[:, 4].values #alle Zeilen, aber nur die letzte Spalte\n",
    "\n",
    "print(\"Attributes:\\n\", features)\n",
    "print(\"\\nLabels:\\n\", labels)"
   ]
  },
  {
   "cell_type": "code",
   "execution_count": null,
   "metadata": {},
   "outputs": [],
   "source": [
    "features.shape"
   ]
  },
  {
   "cell_type": "code",
   "execution_count": null,
   "metadata": {},
   "outputs": [],
   "source": [
    "labels.shape"
   ]
  },
  {
   "cell_type": "markdown",
   "metadata": {},
   "source": [
    "### --> Nun in Trainings- und Testset aufteilen:\n",
    "(i.d.R. gibt es auch noch ein Validationset)"
   ]
  },
  {
   "cell_type": "code",
   "execution_count": 6,
   "metadata": {},
   "outputs": [],
   "source": [
    "from sklearn.model_selection import train_test_split\n",
    "\n",
    "features_train, features_test, labels_train, labels_test = train_test_split(features, labels, test_size=0.30, random_state=20)\n",
    "\n",
    "#random_state wird genutzt, damit wir es reproduzieren können "
   ]
  },
  {
   "cell_type": "code",
   "execution_count": 7,
   "metadata": {},
   "outputs": [
    {
     "name": "stdout",
     "output_type": "stream",
     "text": [
      "[[4.9 3.1 1.5 0.1]\n",
      " [6.5 3.2 5.1 2. ]\n",
      " [6.  2.7 5.1 1.6]\n",
      " [6.7 3.3 5.7 2.1]\n",
      " [5.9 3.  4.2 1.5]\n",
      " [5.  3.3 1.4 0.2]\n",
      " [7.1 3.  5.9 2.1]\n",
      " [6.7 3.1 4.4 1.4]\n",
      " [6.7 3.  5.  1.7]\n",
      " [5.5 2.5 4.  1.3]\n",
      " [5.  2.3 3.3 1. ]\n",
      " [4.6 3.6 1.  0.2]\n",
      " [5.1 3.8 1.6 0.2]\n",
      " [5.4 3.9 1.3 0.4]\n",
      " [5.  3.6 1.4 0.2]\n",
      " [4.6 3.4 1.4 0.3]\n",
      " [5.5 4.2 1.4 0.2]\n",
      " [7.7 3.  6.1 2.3]\n",
      " [6.1 2.8 4.  1.3]\n",
      " [5.  2.  3.5 1. ]\n",
      " [6.1 2.9 4.7 1.4]\n",
      " [7.4 2.8 6.1 1.9]\n",
      " [5.8 2.7 3.9 1.2]\n",
      " [4.9 3.  1.4 0.2]\n",
      " [5.4 3.4 1.7 0.2]\n",
      " [6.8 3.2 5.9 2.3]\n",
      " [5.9 3.  5.1 1.8]\n",
      " [6.2 3.4 5.4 2.3]\n",
      " [4.7 3.2 1.6 0.2]\n",
      " [7.3 2.9 6.3 1.8]\n",
      " [6.3 2.5 5.  1.9]\n",
      " [5.5 2.6 4.4 1.2]\n",
      " [5.3 3.7 1.5 0.2]\n",
      " [6.7 3.  5.2 2.3]\n",
      " [6.  2.9 4.5 1.5]\n",
      " [4.9 3.1 1.5 0.1]\n",
      " [4.8 3.4 1.6 0.2]\n",
      " [4.6 3.2 1.4 0.2]\n",
      " [6.2 2.2 4.5 1.5]\n",
      " [5.9 3.2 4.8 1.8]\n",
      " [5.1 3.3 1.7 0.5]\n",
      " [6.4 3.1 5.5 1.8]\n",
      " [6.1 2.6 5.6 1.4]\n",
      " [6.3 2.7 4.9 1.8]\n",
      " [5.7 4.4 1.5 0.4]\n",
      " [6.4 2.7 5.3 1.9]\n",
      " [4.8 3.  1.4 0.3]\n",
      " [6.3 3.3 6.  2.5]\n",
      " [5.7 3.8 1.7 0.3]\n",
      " [5.4 3.  4.5 1.5]\n",
      " [7.9 3.8 6.4 2. ]\n",
      " [6.2 2.9 4.3 1.3]\n",
      " [6.7 3.1 4.7 1.5]\n",
      " [6.  3.  4.8 1.8]\n",
      " [4.6 3.1 1.5 0.2]\n",
      " [7.6 3.  6.6 2.1]\n",
      " [7.7 3.8 6.7 2.2]\n",
      " [5.2 3.5 1.5 0.2]\n",
      " [5.5 2.4 3.8 1.1]\n",
      " [5.8 2.8 5.1 2.4]\n",
      " [4.4 2.9 1.4 0.2]\n",
      " [5.1 3.4 1.5 0.2]\n",
      " [6.1 3.  4.9 1.8]\n",
      " [6.7 2.5 5.8 1.8]\n",
      " [5.6 2.9 3.6 1.3]\n",
      " [5.7 2.9 4.2 1.3]\n",
      " [6.3 2.9 5.6 1.8]\n",
      " [7.7 2.6 6.9 2.3]\n",
      " [6.  2.2 4.  1. ]\n",
      " [4.8 3.  1.4 0.1]\n",
      " [6.9 3.1 4.9 1.5]\n",
      " [6.3 2.5 4.9 1.5]\n",
      " [5.6 2.5 3.9 1.1]\n",
      " [5.1 3.8 1.9 0.4]\n",
      " [6.  3.4 4.5 1.6]\n",
      " [5.5 2.3 4.  1.3]\n",
      " [7.  3.2 4.7 1.4]\n",
      " [4.9 2.5 4.5 1.7]\n",
      " [5.8 4.  1.2 0.2]\n",
      " [5.8 2.7 5.1 1.9]\n",
      " [5.1 3.5 1.4 0.3]\n",
      " [5.1 3.7 1.5 0.4]\n",
      " [5.8 2.6 4.  1.2]\n",
      " [6.8 2.8 4.8 1.4]\n",
      " [6.2 2.8 4.8 1.8]\n",
      " [6.9 3.1 5.1 2.3]\n",
      " [6.6 3.  4.4 1.4]\n",
      " [5.4 3.4 1.5 0.4]\n",
      " [6.4 3.2 5.3 2.3]\n",
      " [7.2 3.6 6.1 2.5]\n",
      " [6.1 2.8 4.7 1.2]\n",
      " [7.2 3.  5.8 1.6]\n",
      " [6.5 3.  5.5 1.8]\n",
      " [6.8 3.  5.5 2.1]\n",
      " [5.  3.4 1.6 0.4]\n",
      " [5.2 3.4 1.4 0.2]\n",
      " [6.7 3.1 5.6 2.4]\n",
      " [5.7 2.6 3.5 1. ]\n",
      " [5.5 2.4 3.7 1. ]\n",
      " [6.5 3.  5.2 2. ]\n",
      " [6.3 3.3 4.7 1.6]\n",
      " [5.6 3.  4.5 1.5]\n",
      " [4.3 3.  1.1 0.1]\n",
      " [5.1 3.5 1.4 0.2]\n",
      " [6.  2.2 5.  1.5]]\n",
      "['Iris-setosa' 'Iris-virginica' 'Iris-versicolor' 'Iris-virginica'\n",
      " 'Iris-versicolor' 'Iris-setosa' 'Iris-virginica' 'Iris-versicolor'\n",
      " 'Iris-versicolor' 'Iris-versicolor' 'Iris-versicolor' 'Iris-setosa'\n",
      " 'Iris-setosa' 'Iris-setosa' 'Iris-setosa' 'Iris-setosa' 'Iris-setosa'\n",
      " 'Iris-virginica' 'Iris-versicolor' 'Iris-versicolor' 'Iris-versicolor'\n",
      " 'Iris-virginica' 'Iris-versicolor' 'Iris-setosa' 'Iris-setosa'\n",
      " 'Iris-virginica' 'Iris-virginica' 'Iris-virginica' 'Iris-setosa'\n",
      " 'Iris-virginica' 'Iris-virginica' 'Iris-versicolor' 'Iris-setosa'\n",
      " 'Iris-virginica' 'Iris-versicolor' 'Iris-setosa' 'Iris-setosa'\n",
      " 'Iris-setosa' 'Iris-versicolor' 'Iris-versicolor' 'Iris-setosa'\n",
      " 'Iris-virginica' 'Iris-virginica' 'Iris-virginica' 'Iris-setosa'\n",
      " 'Iris-virginica' 'Iris-setosa' 'Iris-virginica' 'Iris-setosa'\n",
      " 'Iris-versicolor' 'Iris-virginica' 'Iris-versicolor' 'Iris-versicolor'\n",
      " 'Iris-virginica' 'Iris-setosa' 'Iris-virginica' 'Iris-virginica'\n",
      " 'Iris-setosa' 'Iris-versicolor' 'Iris-virginica' 'Iris-setosa'\n",
      " 'Iris-setosa' 'Iris-virginica' 'Iris-virginica' 'Iris-versicolor'\n",
      " 'Iris-versicolor' 'Iris-virginica' 'Iris-virginica' 'Iris-versicolor'\n",
      " 'Iris-setosa' 'Iris-versicolor' 'Iris-versicolor' 'Iris-versicolor'\n",
      " 'Iris-setosa' 'Iris-versicolor' 'Iris-versicolor' 'Iris-versicolor'\n",
      " 'Iris-virginica' 'Iris-setosa' 'Iris-virginica' 'Iris-setosa'\n",
      " 'Iris-setosa' 'Iris-versicolor' 'Iris-versicolor' 'Iris-virginica'\n",
      " 'Iris-virginica' 'Iris-versicolor' 'Iris-setosa' 'Iris-virginica'\n",
      " 'Iris-virginica' 'Iris-versicolor' 'Iris-virginica' 'Iris-virginica'\n",
      " 'Iris-virginica' 'Iris-setosa' 'Iris-setosa' 'Iris-virginica'\n",
      " 'Iris-versicolor' 'Iris-versicolor' 'Iris-virginica' 'Iris-versicolor'\n",
      " 'Iris-versicolor' 'Iris-setosa' 'Iris-setosa' 'Iris-virginica']\n"
     ]
    }
   ],
   "source": [
    "# 70% Trainingsdaten \n",
    "print(features_train)\n",
    "print(labels_train)"
   ]
  },
  {
   "cell_type": "code",
   "execution_count": 8,
   "metadata": {},
   "outputs": [
    {
     "name": "stdout",
     "output_type": "stream",
     "text": [
      "[[5.5 3.5 1.3 0.2]\n",
      " [5.2 4.1 1.5 0.1]\n",
      " [6.7 3.3 5.7 2.5]\n",
      " [4.9 2.4 3.3 1. ]\n",
      " [5.1 2.5 3.  1.1]\n",
      " [6.5 3.  5.8 2.2]\n",
      " [6.9 3.2 5.7 2.3]\n",
      " [6.5 2.8 4.6 1.5]\n",
      " [5.8 2.7 4.1 1. ]\n",
      " [5.4 3.7 1.5 0.2]\n",
      " [5.7 2.5 5.  2. ]\n",
      " [5.1 3.8 1.5 0.3]\n",
      " [6.1 3.  4.6 1.4]\n",
      " [5.7 3.  4.2 1.2]\n",
      " [5.4 3.9 1.7 0.4]\n",
      " [6.4 3.2 4.5 1.5]\n",
      " [4.7 3.2 1.3 0.2]\n",
      " [4.9 3.1 1.5 0.1]\n",
      " [5.2 2.7 3.9 1.4]\n",
      " [6.6 2.9 4.6 1.3]\n",
      " [4.4 3.2 1.3 0.2]\n",
      " [5.6 2.8 4.9 2. ]\n",
      " [6.4 2.8 5.6 2.1]\n",
      " [5.6 3.  4.1 1.3]\n",
      " [5.7 2.8 4.1 1.3]\n",
      " [5.  3.  1.6 0.2]\n",
      " [6.9 3.1 5.4 2.1]\n",
      " [4.8 3.4 1.9 0.2]\n",
      " [4.4 3.  1.3 0.2]\n",
      " [4.8 3.1 1.6 0.2]\n",
      " [6.3 2.3 4.4 1.3]\n",
      " [7.7 2.8 6.7 2. ]\n",
      " [5.8 2.7 5.1 1.9]\n",
      " [5.6 2.7 4.2 1.3]\n",
      " [6.4 2.9 4.3 1.3]\n",
      " [5.  3.2 1.2 0.2]\n",
      " [5.7 2.8 4.5 1.3]\n",
      " [5.  3.5 1.6 0.6]\n",
      " [6.4 2.8 5.6 2.2]\n",
      " [7.2 3.2 6.  1.8]\n",
      " [5.  3.4 1.5 0.2]\n",
      " [6.3 3.4 5.6 2.4]\n",
      " [6.3 2.8 5.1 1.5]\n",
      " [4.5 2.3 1.3 0.3]\n",
      " [5.  3.5 1.3 0.3]]\n",
      "['Iris-setosa' 'Iris-setosa' 'Iris-virginica' 'Iris-versicolor'\n",
      " 'Iris-versicolor' 'Iris-virginica' 'Iris-virginica' 'Iris-versicolor'\n",
      " 'Iris-versicolor' 'Iris-setosa' 'Iris-virginica' 'Iris-setosa'\n",
      " 'Iris-versicolor' 'Iris-versicolor' 'Iris-setosa' 'Iris-versicolor'\n",
      " 'Iris-setosa' 'Iris-setosa' 'Iris-versicolor' 'Iris-versicolor'\n",
      " 'Iris-setosa' 'Iris-virginica' 'Iris-virginica' 'Iris-versicolor'\n",
      " 'Iris-versicolor' 'Iris-setosa' 'Iris-virginica' 'Iris-setosa'\n",
      " 'Iris-setosa' 'Iris-setosa' 'Iris-versicolor' 'Iris-virginica'\n",
      " 'Iris-virginica' 'Iris-versicolor' 'Iris-versicolor' 'Iris-setosa'\n",
      " 'Iris-versicolor' 'Iris-setosa' 'Iris-virginica' 'Iris-virginica'\n",
      " 'Iris-setosa' 'Iris-virginica' 'Iris-virginica' 'Iris-setosa'\n",
      " 'Iris-setosa']\n"
     ]
    }
   ],
   "source": [
    "# 30 % Testdaten\n",
    "print(features_test)\n",
    "print(labels_test)"
   ]
  },
  {
   "cell_type": "code",
   "execution_count": null,
   "metadata": {},
   "outputs": [],
   "source": [
    "print(len(features_train))\n",
    "print(len(features_test))"
   ]
  },
  {
   "cell_type": "markdown",
   "metadata": {},
   "source": [
    "### -->  Jetzt können wir schon klassifizieren!"
   ]
  },
  {
   "cell_type": "markdown",
   "metadata": {},
   "source": [
    "### -->  Naive Bayes Classifier "
   ]
  },
  {
   "cell_type": "code",
   "execution_count": 9,
   "metadata": {},
   "outputs": [
    {
     "name": "stdout",
     "output_type": "stream",
     "text": [
      "Ergebnis für das Testset:\n",
      "['Iris-setosa' 'Iris-setosa' 'Iris-virginica' 'Iris-versicolor'\n",
      " 'Iris-versicolor' 'Iris-virginica' 'Iris-virginica' 'Iris-versicolor'\n",
      " 'Iris-versicolor' 'Iris-setosa' 'Iris-virginica' 'Iris-setosa'\n",
      " 'Iris-versicolor' 'Iris-versicolor' 'Iris-setosa' 'Iris-versicolor'\n",
      " 'Iris-setosa' 'Iris-setosa' 'Iris-versicolor' 'Iris-versicolor'\n",
      " 'Iris-setosa' 'Iris-virginica' 'Iris-virginica' 'Iris-versicolor'\n",
      " 'Iris-versicolor' 'Iris-setosa' 'Iris-virginica' 'Iris-setosa'\n",
      " 'Iris-setosa' 'Iris-setosa' 'Iris-versicolor' 'Iris-virginica'\n",
      " 'Iris-virginica' 'Iris-versicolor' 'Iris-versicolor' 'Iris-setosa'\n",
      " 'Iris-versicolor' 'Iris-setosa' 'Iris-virginica' 'Iris-virginica'\n",
      " 'Iris-setosa' 'Iris-virginica' 'Iris-versicolor' 'Iris-setosa'\n",
      " 'Iris-setosa']\n",
      "\n",
      " Treffsicherheit/ Accuracy:\n",
      "0.9777777777777777\n"
     ]
    }
   ],
   "source": [
    "from sklearn.naive_bayes import GaussianNB\n",
    "\n",
    "# den Klassfikator erstellen: \n",
    "gnb = GaussianNB()\n",
    "\n",
    "# den Klassfikator mit dem Trainingsset trainieren: \n",
    "gnb.fit(features_train, labels_train)\n",
    "\n",
    "# den Klassifikator auf das Testset anwenden: \n",
    "labels_pred = gnb.predict(features_test)\n",
    "print(\"Ergebnis für das Testset:\")\n",
    "print(labels_pred)\n",
    "\n",
    "# Wie gut funktioniert der Klassifikator?\n",
    "from sklearn.metrics import accuracy_score\n",
    "\n",
    "print(\"\\n Treffsicherheit/ Accuracy:\")\n",
    "print(accuracy_score(labels_test, labels_pred))\n",
    "#print(gnb.score(features_test, labels_test))"
   ]
  },
  {
   "cell_type": "code",
   "execution_count": 10,
   "metadata": {},
   "outputs": [
    {
     "name": "stdout",
     "output_type": "stream",
     "text": [
      "                 precision    recall  f1-score   support\n",
      "\n",
      "    Iris-setosa       1.00      1.00      1.00        17\n",
      "Iris-versicolor       0.94      1.00      0.97        15\n",
      " Iris-virginica       1.00      0.92      0.96        13\n",
      "\n",
      "      micro avg       0.98      0.98      0.98        45\n",
      "      macro avg       0.98      0.97      0.98        45\n",
      "   weighted avg       0.98      0.98      0.98        45\n",
      "\n"
     ]
    }
   ],
   "source": [
    "from sklearn.metrics import classification_report\n",
    "\n",
    "print(classification_report(labels_test, labels_pred))"
   ]
  },
  {
   "cell_type": "markdown",
   "metadata": {},
   "source": [
    "### --> Perceptron Klassifikator:"
   ]
  },
  {
   "cell_type": "code",
   "execution_count": 11,
   "metadata": {},
   "outputs": [
    {
     "name": "stderr",
     "output_type": "stream",
     "text": [
      "/anaconda3/lib/python3.7/site-packages/sklearn/linear_model/stochastic_gradient.py:152: DeprecationWarning: n_iter parameter is deprecated in 0.19 and will be removed in 0.21. Use max_iter and tol instead.\n",
      "  DeprecationWarning)\n"
     ]
    },
    {
     "name": "stdout",
     "output_type": "stream",
     "text": [
      "Ergebnis für das Testset:\n",
      "['Iris-setosa' 'Iris-setosa' 'Iris-virginica' 'Iris-setosa' 'Iris-setosa'\n",
      " 'Iris-virginica' 'Iris-virginica' 'Iris-setosa' 'Iris-setosa'\n",
      " 'Iris-setosa' 'Iris-virginica' 'Iris-setosa' 'Iris-setosa' 'Iris-setosa'\n",
      " 'Iris-setosa' 'Iris-setosa' 'Iris-setosa' 'Iris-setosa' 'Iris-setosa'\n",
      " 'Iris-setosa' 'Iris-setosa' 'Iris-virginica' 'Iris-virginica'\n",
      " 'Iris-setosa' 'Iris-setosa' 'Iris-setosa' 'Iris-virginica' 'Iris-setosa'\n",
      " 'Iris-setosa' 'Iris-setosa' 'Iris-versicolor' 'Iris-virginica'\n",
      " 'Iris-virginica' 'Iris-setosa' 'Iris-setosa' 'Iris-setosa' 'Iris-setosa'\n",
      " 'Iris-setosa' 'Iris-virginica' 'Iris-virginica' 'Iris-setosa'\n",
      " 'Iris-virginica' 'Iris-virginica' 'Iris-setosa' 'Iris-setosa']\n",
      "\n",
      " Treffsicherheit/ Accuracy:\n",
      "0.6888888888888889\n"
     ]
    }
   ],
   "source": [
    "from sklearn.linear_model import Perceptron\n",
    "\n",
    "# den Klassfikator erstellen: \n",
    "# n_iter = Hyperparameter \n",
    "ppn = Perceptron(n_iter=30)\n",
    "\n",
    "# den Klassfikator mit dem Trainingsset trainieren: \n",
    "ppn.fit(features_train, labels_train)\n",
    "\n",
    "# den Klassifikator auf das Testset anwenden: \n",
    "labels_pred = ppn.predict(features_test)\n",
    "print(\"Ergebnis für das Testset:\")\n",
    "print(labels_pred)\n",
    "\n",
    "# Wie gut funktioniert der Klassifikator?\n",
    "print(\"\\n Treffsicherheit/ Accuracy:\")\n",
    "print(accuracy_score(labels_test, labels_pred))\n",
    "#print(ppn.score(features_test, labels_test)) "
   ]
  },
  {
   "cell_type": "markdown",
   "metadata": {},
   "source": [
    "### --> K Nearest Neighbor (KNN) Klassifikator:"
   ]
  },
  {
   "cell_type": "code",
   "execution_count": 12,
   "metadata": {},
   "outputs": [
    {
     "name": "stdout",
     "output_type": "stream",
     "text": [
      "Ergebnis für das Testset:\n",
      "['Iris-setosa' 'Iris-setosa' 'Iris-virginica' 'Iris-versicolor'\n",
      " 'Iris-versicolor' 'Iris-virginica' 'Iris-virginica' 'Iris-versicolor'\n",
      " 'Iris-versicolor' 'Iris-setosa' 'Iris-virginica' 'Iris-setosa'\n",
      " 'Iris-versicolor' 'Iris-versicolor' 'Iris-setosa' 'Iris-versicolor'\n",
      " 'Iris-setosa' 'Iris-setosa' 'Iris-versicolor' 'Iris-versicolor'\n",
      " 'Iris-setosa' 'Iris-virginica' 'Iris-virginica' 'Iris-versicolor'\n",
      " 'Iris-versicolor' 'Iris-setosa' 'Iris-virginica' 'Iris-setosa'\n",
      " 'Iris-setosa' 'Iris-setosa' 'Iris-versicolor' 'Iris-virginica'\n",
      " 'Iris-virginica' 'Iris-versicolor' 'Iris-versicolor' 'Iris-setosa'\n",
      " 'Iris-versicolor' 'Iris-setosa' 'Iris-virginica' 'Iris-virginica'\n",
      " 'Iris-setosa' 'Iris-virginica' 'Iris-versicolor' 'Iris-setosa'\n",
      " 'Iris-setosa']\n",
      "\n",
      " Treffsicherheit/ Accuracy:\n",
      "0.9777777777777777\n"
     ]
    }
   ],
   "source": [
    "from sklearn.neighbors import KNeighborsClassifier\n",
    "\n",
    "# den Klassfikator erstellen: \n",
    "# n_neighbors = Hyperparameter \n",
    "knn = KNeighborsClassifier(n_neighbors=2)\n",
    "\n",
    "# den Klassfikator mit dem Trainingsset trainieren: \n",
    "knn.fit(features_train, labels_train)\n",
    "\n",
    "# den Klassifikator auf das Testset anwenden: \n",
    "labels_pred = knn.predict(features_test)\n",
    "print(\"Ergebnis für das Testset:\")\n",
    "print(labels_pred)\n",
    "\n",
    "# Wie gut funktioniert der Klassifikator?\n",
    "print(\"\\n Treffsicherheit/ Accuracy:\")\n",
    "print(accuracy_score(labels_test, labels_pred))\n",
    "#print(knn.score(features_test, labels_test))"
   ]
  },
  {
   "cell_type": "markdown",
   "metadata": {},
   "source": [
    "# Ergänzung 19.12.19:  \n",
    "\n",
    "### --> Logistic Regression"
   ]
  },
  {
   "cell_type": "code",
   "execution_count": 13,
   "metadata": {},
   "outputs": [
    {
     "name": "stdout",
     "output_type": "stream",
     "text": [
      "['Iris-setosa' 'Iris-setosa' 'Iris-virginica' 'Iris-versicolor'\n",
      " 'Iris-versicolor' 'Iris-virginica' 'Iris-virginica' 'Iris-versicolor'\n",
      " 'Iris-versicolor' 'Iris-setosa' 'Iris-virginica' 'Iris-setosa'\n",
      " 'Iris-versicolor' 'Iris-versicolor' 'Iris-setosa' 'Iris-versicolor'\n",
      " 'Iris-setosa' 'Iris-setosa' 'Iris-versicolor' 'Iris-versicolor'\n",
      " 'Iris-setosa' 'Iris-virginica' 'Iris-virginica' 'Iris-versicolor'\n",
      " 'Iris-versicolor' 'Iris-setosa' 'Iris-virginica' 'Iris-setosa'\n",
      " 'Iris-setosa' 'Iris-setosa' 'Iris-versicolor' 'Iris-virginica'\n",
      " 'Iris-virginica' 'Iris-versicolor' 'Iris-versicolor' 'Iris-setosa'\n",
      " 'Iris-versicolor' 'Iris-setosa' 'Iris-virginica' 'Iris-virginica'\n",
      " 'Iris-setosa' 'Iris-virginica' 'Iris-versicolor' 'Iris-setosa'\n",
      " 'Iris-setosa']\n",
      "\n",
      " Treffsicherheit/ Accuracy:\n",
      "0.9777777777777777\n"
     ]
    },
    {
     "name": "stderr",
     "output_type": "stream",
     "text": [
      "/anaconda3/lib/python3.7/site-packages/sklearn/linear_model/logistic.py:433: FutureWarning: Default solver will be changed to 'lbfgs' in 0.22. Specify a solver to silence this warning.\n",
      "  FutureWarning)\n",
      "/anaconda3/lib/python3.7/site-packages/sklearn/linear_model/logistic.py:460: FutureWarning: Default multi_class will be changed to 'auto' in 0.22. Specify the multi_class option to silence this warning.\n",
      "  \"this warning.\", FutureWarning)\n"
     ]
    }
   ],
   "source": [
    "from sklearn.linear_model import LogisticRegression\n",
    "\n",
    "# das Modell erstellen: \n",
    "logreg = LogisticRegression(C=1e5) \n",
    "\n",
    "# mit dem Trainingsset trainieren: \n",
    "logreg.fit(features_train, labels_train)\n",
    "\n",
    "# auf das Testset anwenden: \n",
    "labels_pred = logreg.predict(features_test)\n",
    "print(labels_pred)\n",
    "\n",
    "# Wie gut funktioniert das Modell?\n",
    "print(\"\\n Treffsicherheit/ Accuracy:\")\n",
    "print(accuracy_score(labels_test, labels_pred))\n",
    "#print(logreg.score(features_test, labels_test))"
   ]
  },
  {
   "cell_type": "code",
   "execution_count": 14,
   "metadata": {},
   "outputs": [],
   "source": [
    "output_df = pd.DataFrame(columns=['Merkmale', 'Richtiges Label', 'Klassifiziertes Label'])\n",
    "for i in range(len(features_test)):\n",
    "    output_df.loc[i] = [features_test[i], labels_test[i], labels_pred[i]]"
   ]
  },
  {
   "cell_type": "code",
   "execution_count": 15,
   "metadata": {},
   "outputs": [
    {
     "name": "stdout",
     "output_type": "stream",
     "text": [
      "Merkmale [5.5 3.5 1.3 0.2]\n",
      "Klassifiziertes Label:  Iris-setosa\n",
      "Richtiges Label:  Iris-setosa\n",
      "\n",
      "Merkmale [5.2 4.1 1.5 0.1]\n",
      "Klassifiziertes Label:  Iris-setosa\n",
      "Richtiges Label:  Iris-setosa\n",
      "\n",
      "Merkmale [6.7 3.3 5.7 2.5]\n",
      "Klassifiziertes Label:  Iris-virginica\n",
      "Richtiges Label:  Iris-virginica\n",
      "\n",
      "Merkmale [4.9 2.4 3.3 1. ]\n",
      "Klassifiziertes Label:  Iris-versicolor\n",
      "Richtiges Label:  Iris-versicolor\n",
      "\n",
      "Merkmale [5.1 2.5 3.  1.1]\n",
      "Klassifiziertes Label:  Iris-versicolor\n",
      "Richtiges Label:  Iris-versicolor\n",
      "\n",
      "Merkmale [6.5 3.  5.8 2.2]\n",
      "Klassifiziertes Label:  Iris-virginica\n",
      "Richtiges Label:  Iris-virginica\n",
      "\n",
      "Merkmale [6.9 3.2 5.7 2.3]\n",
      "Klassifiziertes Label:  Iris-virginica\n",
      "Richtiges Label:  Iris-virginica\n",
      "\n",
      "Merkmale [6.5 2.8 4.6 1.5]\n",
      "Klassifiziertes Label:  Iris-versicolor\n",
      "Richtiges Label:  Iris-versicolor\n",
      "\n",
      "Merkmale [5.8 2.7 4.1 1. ]\n",
      "Klassifiziertes Label:  Iris-versicolor\n",
      "Richtiges Label:  Iris-versicolor\n",
      "\n",
      "Merkmale [5.4 3.7 1.5 0.2]\n",
      "Klassifiziertes Label:  Iris-setosa\n",
      "Richtiges Label:  Iris-setosa\n",
      "\n",
      "Merkmale [5.7 2.5 5.  2. ]\n",
      "Klassifiziertes Label:  Iris-virginica\n",
      "Richtiges Label:  Iris-virginica\n",
      "\n",
      "Merkmale [5.1 3.8 1.5 0.3]\n",
      "Klassifiziertes Label:  Iris-setosa\n",
      "Richtiges Label:  Iris-setosa\n",
      "\n",
      "Merkmale [6.1 3.  4.6 1.4]\n",
      "Klassifiziertes Label:  Iris-versicolor\n",
      "Richtiges Label:  Iris-versicolor\n",
      "\n",
      "Merkmale [5.7 3.  4.2 1.2]\n",
      "Klassifiziertes Label:  Iris-versicolor\n",
      "Richtiges Label:  Iris-versicolor\n",
      "\n",
      "Merkmale [5.4 3.9 1.7 0.4]\n",
      "Klassifiziertes Label:  Iris-setosa\n",
      "Richtiges Label:  Iris-setosa\n",
      "\n",
      "Merkmale [6.4 3.2 4.5 1.5]\n",
      "Klassifiziertes Label:  Iris-versicolor\n",
      "Richtiges Label:  Iris-versicolor\n",
      "\n",
      "Merkmale [4.7 3.2 1.3 0.2]\n",
      "Klassifiziertes Label:  Iris-setosa\n",
      "Richtiges Label:  Iris-setosa\n",
      "\n",
      "Merkmale [4.9 3.1 1.5 0.1]\n",
      "Klassifiziertes Label:  Iris-setosa\n",
      "Richtiges Label:  Iris-setosa\n",
      "\n",
      "Merkmale [5.2 2.7 3.9 1.4]\n",
      "Klassifiziertes Label:  Iris-versicolor\n",
      "Richtiges Label:  Iris-versicolor\n",
      "\n",
      "Merkmale [6.6 2.9 4.6 1.3]\n",
      "Klassifiziertes Label:  Iris-versicolor\n",
      "Richtiges Label:  Iris-versicolor\n",
      "\n",
      "Merkmale [4.4 3.2 1.3 0.2]\n",
      "Klassifiziertes Label:  Iris-setosa\n",
      "Richtiges Label:  Iris-setosa\n",
      "\n",
      "Merkmale [5.6 2.8 4.9 2. ]\n",
      "Klassifiziertes Label:  Iris-virginica\n",
      "Richtiges Label:  Iris-virginica\n",
      "\n",
      "Merkmale [6.4 2.8 5.6 2.1]\n",
      "Klassifiziertes Label:  Iris-virginica\n",
      "Richtiges Label:  Iris-virginica\n",
      "\n",
      "Merkmale [5.6 3.  4.1 1.3]\n",
      "Klassifiziertes Label:  Iris-versicolor\n",
      "Richtiges Label:  Iris-versicolor\n",
      "\n",
      "Merkmale [5.7 2.8 4.1 1.3]\n",
      "Klassifiziertes Label:  Iris-versicolor\n",
      "Richtiges Label:  Iris-versicolor\n",
      "\n",
      "Merkmale [5.  3.  1.6 0.2]\n",
      "Klassifiziertes Label:  Iris-setosa\n",
      "Richtiges Label:  Iris-setosa\n",
      "\n",
      "Merkmale [6.9 3.1 5.4 2.1]\n",
      "Klassifiziertes Label:  Iris-virginica\n",
      "Richtiges Label:  Iris-virginica\n",
      "\n",
      "Merkmale [4.8 3.4 1.9 0.2]\n",
      "Klassifiziertes Label:  Iris-setosa\n",
      "Richtiges Label:  Iris-setosa\n",
      "\n",
      "Merkmale [4.4 3.  1.3 0.2]\n",
      "Klassifiziertes Label:  Iris-setosa\n",
      "Richtiges Label:  Iris-setosa\n",
      "\n",
      "Merkmale [4.8 3.1 1.6 0.2]\n",
      "Klassifiziertes Label:  Iris-setosa\n",
      "Richtiges Label:  Iris-setosa\n",
      "\n",
      "Merkmale [6.3 2.3 4.4 1.3]\n",
      "Klassifiziertes Label:  Iris-versicolor\n",
      "Richtiges Label:  Iris-versicolor\n",
      "\n",
      "Merkmale [7.7 2.8 6.7 2. ]\n",
      "Klassifiziertes Label:  Iris-virginica\n",
      "Richtiges Label:  Iris-virginica\n",
      "\n",
      "Merkmale [5.8 2.7 5.1 1.9]\n",
      "Klassifiziertes Label:  Iris-virginica\n",
      "Richtiges Label:  Iris-virginica\n",
      "\n",
      "Merkmale [5.6 2.7 4.2 1.3]\n",
      "Klassifiziertes Label:  Iris-versicolor\n",
      "Richtiges Label:  Iris-versicolor\n",
      "\n",
      "Merkmale [6.4 2.9 4.3 1.3]\n",
      "Klassifiziertes Label:  Iris-versicolor\n",
      "Richtiges Label:  Iris-versicolor\n",
      "\n",
      "Merkmale [5.  3.2 1.2 0.2]\n",
      "Klassifiziertes Label:  Iris-setosa\n",
      "Richtiges Label:  Iris-setosa\n",
      "\n",
      "Merkmale [5.7 2.8 4.5 1.3]\n",
      "Klassifiziertes Label:  Iris-versicolor\n",
      "Richtiges Label:  Iris-versicolor\n",
      "\n",
      "Merkmale [5.  3.5 1.6 0.6]\n",
      "Klassifiziertes Label:  Iris-setosa\n",
      "Richtiges Label:  Iris-setosa\n",
      "\n",
      "Merkmale [6.4 2.8 5.6 2.2]\n",
      "Klassifiziertes Label:  Iris-virginica\n",
      "Richtiges Label:  Iris-virginica\n",
      "\n",
      "Merkmale [7.2 3.2 6.  1.8]\n",
      "Klassifiziertes Label:  Iris-virginica\n",
      "Richtiges Label:  Iris-virginica\n",
      "\n",
      "Merkmale [5.  3.4 1.5 0.2]\n",
      "Klassifiziertes Label:  Iris-setosa\n",
      "Richtiges Label:  Iris-setosa\n",
      "\n",
      "Merkmale [6.3 3.4 5.6 2.4]\n",
      "Klassifiziertes Label:  Iris-virginica\n",
      "Richtiges Label:  Iris-virginica\n",
      "\n",
      "Merkmale [6.3 2.8 5.1 1.5]\n",
      "Klassifiziertes Label:  Iris-versicolor\n",
      "Richtiges Label:  Iris-virginica\n",
      "\n",
      "Merkmale [4.5 2.3 1.3 0.3]\n",
      "Klassifiziertes Label:  Iris-setosa\n",
      "Richtiges Label:  Iris-setosa\n",
      "\n",
      "Merkmale [5.  3.5 1.3 0.3]\n",
      "Klassifiziertes Label:  Iris-setosa\n",
      "Richtiges Label:  Iris-setosa\n",
      "\n"
     ]
    }
   ],
   "source": [
    "for num, row in output_df.iterrows():\n",
    "    print('Merkmale', row['Merkmale'])\n",
    "    print('Klassifiziertes Label: ', row['Klassifiziertes Label'])\n",
    "    print('Richtiges Label: ', row['Richtiges Label'])\n",
    "    print()"
   ]
  },
  {
   "cell_type": "markdown",
   "metadata": {},
   "source": [
    "----------------- \n",
    "\n",
    "# Texte vektorisieren mit Scikit-learn"
   ]
  },
  {
   "cell_type": "code",
   "execution_count": null,
   "metadata": {},
   "outputs": [],
   "source": [
    "texts = [\n",
    "    \"it's really really cold outside\",\n",
    "    \"i prefer hot beverages to cold beverages\",\n",
    "    \"to find the best beverages you have to think outside the box\",\n",
    "    \"christmas boxes are wrapped as presents\"\n",
    "]"
   ]
  },
  {
   "cell_type": "markdown",
   "metadata": {},
   "source": [
    "### --> Count Vectorizer\n",
    "\n",
    "- Konvertiert einen Text / einen Textkorpus in eine Matrix von \"token counts\""
   ]
  },
  {
   "cell_type": "code",
   "execution_count": null,
   "metadata": {},
   "outputs": [],
   "source": [
    "from sklearn.feature_extraction.text import CountVectorizer"
   ]
  },
  {
   "cell_type": "code",
   "execution_count": null,
   "metadata": {},
   "outputs": [],
   "source": [
    "vectorizer = CountVectorizer()\n",
    "\n",
    "# die Vokabeln lernen:\n",
    "voc  = vectorizer.fit_transform(texts)"
   ]
  },
  {
   "cell_type": "code",
   "execution_count": null,
   "metadata": {},
   "outputs": [],
   "source": [
    "print(vectorizer.get_feature_names())"
   ]
  },
  {
   "cell_type": "code",
   "execution_count": null,
   "metadata": {},
   "outputs": [],
   "source": [
    "# gelernte Matrix\n",
    "voc.toarray()\n",
    "\n",
    "# Jeder Zeile dieser Matrix spiegelt ein Dokument/ einen Text wieder \n",
    "# und ist so lang wie das gesamte Vokabular des Korpus \n",
    "# für jedes Wort wird gezählt, wie oft es in dem jeweiligen Text/ Dokument vorgekommen ist "
   ]
  },
  {
   "cell_type": "code",
   "execution_count": null,
   "metadata": {},
   "outputs": [],
   "source": [
    "#print(voc.shape)"
   ]
  },
  {
   "cell_type": "code",
   "execution_count": null,
   "metadata": {},
   "outputs": [],
   "source": [
    "#vectorizer.vocabulary_.keys()"
   ]
  },
  {
   "cell_type": "code",
   "execution_count": null,
   "metadata": {},
   "outputs": [],
   "source": [
    "pd.DataFrame(vectorizer.fit_transform(texts).toarray(), columns=sorted(vectorizer.vocabulary_.keys()))"
   ]
  },
  {
   "cell_type": "markdown",
   "metadata": {},
   "source": [
    "### oder auch mit n-grams: "
   ]
  },
  {
   "cell_type": "code",
   "execution_count": null,
   "metadata": {},
   "outputs": [],
   "source": [
    "vectorizer2 = CountVectorizer(analyzer='word', ngram_range=(2, 2))\n",
    "\n",
    "# ngram_range:\n",
    "# (2,2) = nur Bigramme\n",
    "# (1,2) = Unigramme und Bigramme\n",
    "# (1,1) = nur Unigramme \n",
    "\n",
    "voc2  = vectorizer2.fit_transform(texts)"
   ]
  },
  {
   "cell_type": "code",
   "execution_count": null,
   "metadata": {},
   "outputs": [],
   "source": [
    "print(vectorizer2.get_feature_names())"
   ]
  },
  {
   "cell_type": "code",
   "execution_count": null,
   "metadata": {},
   "outputs": [],
   "source": [
    "# gelernte Matrix\n",
    "print(voc2.toarray())"
   ]
  },
  {
   "cell_type": "code",
   "execution_count": null,
   "metadata": {},
   "outputs": [],
   "source": [
    "pd.DataFrame(vectorizer2.fit_transform(texts).toarray(), columns=sorted(vectorizer2.vocabulary_.keys()))"
   ]
  },
  {
   "cell_type": "markdown",
   "metadata": {},
   "source": [
    "### --> Tf-Idf Vectorizer:\n",
    "\n",
    "- Konvertiert einen Text / einen Textkorpus in eine Matrix von TF-IDF-Werten\n"
   ]
  },
  {
   "cell_type": "code",
   "execution_count": null,
   "metadata": {},
   "outputs": [],
   "source": [
    "texts_tfidf = [\n",
    "    \"the weather today is the worst within the history of mankind\",\n",
    "    \"the largest state in the US is Alaska\",\n",
    "    \"the the something here the the\",\n",
    "    \"this is the the is this\"\n",
    "]"
   ]
  },
  {
   "cell_type": "code",
   "execution_count": null,
   "metadata": {},
   "outputs": [],
   "source": [
    "from sklearn.feature_extraction.text import TfidfVectorizer\n",
    "\n",
    "tfidf_vectorizer = TfidfVectorizer()\n",
    "\n",
    "voc3 = tfidf_vectorizer.fit_transform(texts_tfidf)"
   ]
  },
  {
   "cell_type": "code",
   "execution_count": null,
   "metadata": {},
   "outputs": [],
   "source": [
    "print(tfidf_vectorizer.get_feature_names())"
   ]
  },
  {
   "cell_type": "code",
   "execution_count": null,
   "metadata": {},
   "outputs": [],
   "source": [
    "#print(voc3.shape)"
   ]
  },
  {
   "cell_type": "code",
   "execution_count": null,
   "metadata": {},
   "outputs": [],
   "source": [
    "# gelernte Matrix\n",
    "voc3.toarray()"
   ]
  },
  {
   "cell_type": "code",
   "execution_count": null,
   "metadata": {},
   "outputs": [],
   "source": [
    "pd.DataFrame(tfidf_vectorizer.fit_transform(texts_tfidf).toarray(), columns=(tfidf_vectorizer.vocabulary_.keys()))"
   ]
  },
  {
   "cell_type": "code",
   "execution_count": null,
   "metadata": {},
   "outputs": [],
   "source": []
  },
  {
   "cell_type": "code",
   "execution_count": null,
   "metadata": {},
   "outputs": [],
   "source": []
  },
  {
   "cell_type": "code",
   "execution_count": null,
   "metadata": {},
   "outputs": [],
   "source": []
  },
  {
   "cell_type": "code",
   "execution_count": null,
   "metadata": {},
   "outputs": [],
   "source": []
  },
  {
   "cell_type": "code",
   "execution_count": null,
   "metadata": {},
   "outputs": [],
   "source": []
  },
  {
   "cell_type": "code",
   "execution_count": null,
   "metadata": {},
   "outputs": [],
   "source": []
  }
 ],
 "metadata": {
  "kernelspec": {
   "display_name": "Python 3",
   "language": "python",
   "name": "python3"
  },
  "language_info": {
   "codemirror_mode": {
    "name": "ipython",
    "version": 3
   },
   "file_extension": ".py",
   "mimetype": "text/x-python",
   "name": "python",
   "nbconvert_exporter": "python",
   "pygments_lexer": "ipython3",
   "version": "3.7.3"
  }
 },
 "nbformat": 4,
 "nbformat_minor": 2
}
