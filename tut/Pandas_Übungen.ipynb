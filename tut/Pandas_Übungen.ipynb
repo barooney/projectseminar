{
 "cells": [
  {
   "cell_type": "markdown",
   "metadata": {},
   "source": [
    "### Übungsaufgaben zu Pandas\n",
    "\n",
    "--> vgl. für die Dokumentation von Pandas z.B. https://pandas.pydata.org/pandas-docs/stable/"
   ]
  },
  {
   "cell_type": "code",
   "execution_count": 1,
   "metadata": {},
   "outputs": [],
   "source": [
    "import pandas as pd\n",
    "import numpy as np"
   ]
  },
  {
   "cell_type": "code",
   "execution_count": 2,
   "metadata": {},
   "outputs": [
    {
     "name": "stdout",
     "output_type": "stream",
     "text": [
      "      name  punkte  versuche bestanden\n",
      "a  claudia    12.5         1        ja\n",
      "b    emily     9.0         3      nein\n",
      "c   daniel    16.5         2        ja\n",
      "d     fred     NaN         3      nein\n",
      "e   hannah     9.0         2      nein\n",
      "f     anna    20.0         3        ja\n",
      "g     ilse    14.5         1        ja\n",
      "h    jonas     NaN         1      nein\n",
      "i   gustav     8.0         2      nein\n",
      "j    berta    19.0         1        ja\n"
     ]
    }
   ],
   "source": [
    "exam_data  = {'name': ['claudia', 'emily', 'daniel', 'fred', 'hannah', 'anna', 'ilse', 'jonas', 'gustav', 'berta'],\n",
    "        'punkte': [12.5, 9, 16.5, np.nan, 9, 20, 14.5, np.nan, 8, 19],\n",
    "        'versuche': [1, 3, 2, 3, 2, 3, 1, 1, 2, 1],\n",
    "        'bestanden': ['ja', 'nein', 'ja', 'nein', 'nein', 'ja', 'ja', 'nein', 'nein', 'ja']}\n",
    "\n",
    "labels = ['a', 'b', 'c', 'd', 'e', 'f', 'g', 'h', 'i', 'j']\n",
    "\n",
    "df = pd.DataFrame(exam_data , index=labels)\n",
    "print(df)"
   ]
  },
  {
   "cell_type": "code",
   "execution_count": 3,
   "metadata": {},
   "outputs": [
    {
     "name": "stdout",
     "output_type": "stream",
     "text": [
      "<class 'pandas.core.frame.DataFrame'>\n",
      "Index: 10 entries, a to j\n",
      "Data columns (total 4 columns):\n",
      "name         10 non-null object\n",
      "punkte       8 non-null float64\n",
      "versuche     10 non-null int64\n",
      "bestanden    10 non-null object\n",
      "dtypes: float64(1), int64(1), object(2)\n",
      "memory usage: 400.0+ bytes\n",
      "None\n"
     ]
    }
   ],
   "source": [
    "# Eine Zusammenfassung der Daten\n",
    "\n",
    "print(df.info())"
   ]
  },
  {
   "cell_type": "code",
   "execution_count": 4,
   "metadata": {},
   "outputs": [
    {
     "data": {
      "text/plain": [
       "(10, 4)"
      ]
     },
     "execution_count": 4,
     "metadata": {},
     "output_type": "execute_result"
    }
   ],
   "source": [
    "df.shape #(Zeilen, Spalten)"
   ]
  },
  {
   "cell_type": "code",
   "execution_count": 5,
   "metadata": {},
   "outputs": [],
   "source": [
    "# 1) Gib die Anzahl der Zeilen und die Anzahl der Spalten aus\n"
   ]
  },
  {
   "cell_type": "code",
   "execution_count": 6,
   "metadata": {},
   "outputs": [],
   "source": [
    "# 2) Gib nur die ersten drei Zeilen des Dataframes aus\n"
   ]
  },
  {
   "cell_type": "code",
   "execution_count": 7,
   "metadata": {},
   "outputs": [],
   "source": [
    "# 3) Gib nur die Spalten \"name\" und \"punkte\" aus \n"
   ]
  },
  {
   "cell_type": "code",
   "execution_count": 8,
   "metadata": {},
   "outputs": [],
   "source": [
    "# 4) Gib nur die Spalten \"punkte\" und \"bestanden\" für Zeile b, d, f und g aus\n"
   ]
  },
  {
   "cell_type": "code",
   "execution_count": 9,
   "metadata": {},
   "outputs": [],
   "source": [
    "# 5) Gib nur die Zeilen aus, in denen Daten bei \"Punkte\" fehlen\n"
   ]
  },
  {
   "cell_type": "code",
   "execution_count": 10,
   "metadata": {},
   "outputs": [],
   "source": [
    "# 6) Gib alle Daten für die Personen aus, die mehr als zwei Versuche gebraucht haben\n"
   ]
  },
  {
   "cell_type": "code",
   "execution_count": 11,
   "metadata": {},
   "outputs": [],
   "source": [
    "# 7) Gib alle Daten für die Personen aus, die zwischen 15 und 20 Punkte haben\n"
   ]
  },
  {
   "cell_type": "code",
   "execution_count": 12,
   "metadata": {},
   "outputs": [],
   "source": [
    "# 8) Gib Fred 11.5 Punkte \n"
   ]
  },
  {
   "cell_type": "code",
   "execution_count": 13,
   "metadata": {},
   "outputs": [],
   "source": [
    "# 9) Berechne die Gesamtanzahl aller Versuche der Personen\n"
   ]
  },
  {
   "cell_type": "code",
   "execution_count": 14,
   "metadata": {},
   "outputs": [],
   "source": [
    "# 10) Berechne den Mittelwert der Punkte der Personen\n"
   ]
  },
  {
   "cell_type": "code",
   "execution_count": 15,
   "metadata": {},
   "outputs": [],
   "source": [
    "# 11) Sortiere die Daten alphabetisch nach Namen \n"
   ]
  },
  {
   "cell_type": "code",
   "execution_count": 16,
   "metadata": {},
   "outputs": [],
   "source": [
    "# 12) Mach in der Spalte \"bestanden\" aus ja 'True' und aus nein 'False'\n"
   ]
  },
  {
   "cell_type": "code",
   "execution_count": 17,
   "metadata": {},
   "outputs": [],
   "source": [
    "# 13) Füge eine neue Spalte \"Semester\" hinzu (die Werte kannst du dir ausdenken)\n"
   ]
  },
  {
   "cell_type": "code",
   "execution_count": 18,
   "metadata": {},
   "outputs": [],
   "source": [
    "# 14) Füge eine neue Zeile für \"Katja\" hinzu (die Werte kannst du dir ausdenken )\n"
   ]
  },
  {
   "cell_type": "code",
   "execution_count": 19,
   "metadata": {},
   "outputs": [],
   "source": [
    "# 15) Lösche die Zeile für \"Katja\" wieder \n"
   ]
  },
  {
   "cell_type": "code",
   "execution_count": 20,
   "metadata": {},
   "outputs": [],
   "source": [
    "# 16) Ersetze alle 'na'-Werte mit einer Null \n"
   ]
  },
  {
   "cell_type": "code",
   "execution_count": 21,
   "metadata": {},
   "outputs": [],
   "source": [
    "# 17) Schreibe die Daten in eine neue CSV-Datei \n"
   ]
  },
  {
   "cell_type": "markdown",
   "metadata": {},
   "source": [
    "#### und nun mit importierten Daten... "
   ]
  },
  {
   "cell_type": "code",
   "execution_count": 22,
   "metadata": {},
   "outputs": [
    {
     "name": "stderr",
     "output_type": "stream",
     "text": [
      "b'Skipping line 31: expected 24 fields, saw 25\\n'\n"
     ]
    }
   ],
   "source": [
    "data = pd.read_csv('movies_metadata.csv', encoding = \"ISO-8859-1\", error_bad_lines=False)"
   ]
  },
  {
   "cell_type": "code",
   "execution_count": 23,
   "metadata": {},
   "outputs": [
    {
     "name": "stdout",
     "output_type": "stream",
     "text": [
      "<class 'pandas.core.frame.DataFrame'>\n",
      "RangeIndex: 49 entries, 0 to 48\n",
      "Data columns (total 24 columns):\n",
      "adult                    49 non-null bool\n",
      "belongs_to_collection    10 non-null object\n",
      "budget                   49 non-null int64\n",
      "genres                   49 non-null object\n",
      "homepage                 5 non-null object\n",
      "id                       49 non-null int64\n",
      "imdb_id                  49 non-null object\n",
      "original_language        49 non-null object\n",
      "original_title           49 non-null object\n",
      "overview                 48 non-null object\n",
      "popularity               49 non-null float64\n",
      "poster_path              49 non-null object\n",
      "production_companies     49 non-null object\n",
      "production_countries     49 non-null object\n",
      "release_date             49 non-null object\n",
      "revenue                  49 non-null int64\n",
      "runtime                  49 non-null float64\n",
      "spoken_languages         49 non-null object\n",
      "status                   49 non-null object\n",
      "tagline                  40 non-null object\n",
      "title                    49 non-null object\n",
      "video                    49 non-null bool\n",
      "vote_average             49 non-null float64\n",
      "vote_count               49 non-null int64\n",
      "dtypes: bool(2), float64(3), int64(4), object(15)\n",
      "memory usage: 8.6+ KB\n"
     ]
    }
   ],
   "source": [
    "data.info()"
   ]
  },
  {
   "cell_type": "code",
   "execution_count": 24,
   "metadata": {},
   "outputs": [
    {
     "data": {
      "text/plain": [
       "(49, 24)"
      ]
     },
     "execution_count": 24,
     "metadata": {},
     "output_type": "execute_result"
    }
   ],
   "source": [
    "data.shape #(Zeilen, Spalten) "
   ]
  },
  {
   "cell_type": "code",
   "execution_count": 25,
   "metadata": {},
   "outputs": [],
   "source": [
    "# 18) Lass dir alle Spalten des Datensatzes anzeigen\n"
   ]
  },
  {
   "cell_type": "code",
   "execution_count": 26,
   "metadata": {},
   "outputs": [],
   "source": [
    "# 19) Lass dir nur die ersten 6 Zeilen anzeigen \n"
   ]
  },
  {
   "cell_type": "code",
   "execution_count": 27,
   "metadata": {},
   "outputs": [],
   "source": [
    "# 20) Gib alle Daten für die Spalten \"title\" und \"genre\" aus\n"
   ]
  },
  {
   "cell_type": "code",
   "execution_count": 28,
   "metadata": {},
   "outputs": [],
   "source": [
    "# 21) Lass dir die Daten des Films in der vierten Zeile anzeigen \n"
   ]
  },
  {
   "cell_type": "code",
   "execution_count": 29,
   "metadata": {},
   "outputs": [],
   "source": [
    "# 22) Lass dir die Daten für den Film \"The American President\" anzeigen\n"
   ]
  },
  {
   "cell_type": "code",
   "execution_count": 30,
   "metadata": {},
   "outputs": [],
   "source": [
    "# 23) Erzeuge einen kleineren Datensatz, der nur noch die Daten dieser Spalten enthält:\n",
    "\n",
    "# 'title',\n",
    "# 'release_date'\n",
    "# 'original_language', \n",
    "# 'spoken_languages', \n"
   ]
  },
  {
   "cell_type": "code",
   "execution_count": 31,
   "metadata": {},
   "outputs": [],
   "source": [
    "# 24) Sortiere diesen neuen Datensatz nach Erscheinungsdatum\n"
   ]
  },
  {
   "cell_type": "code",
   "execution_count": 32,
   "metadata": {},
   "outputs": [],
   "source": [
    "# 25) Shuffel den (originalen) Datensatz bzw. bringe ihn in eine zufällige Reihenfolge\n",
    "\n"
   ]
  },
  {
   "cell_type": "code",
   "execution_count": 33,
   "metadata": {},
   "outputs": [],
   "source": [
    "# 26) Teile den (originalen) Datensatz in ein Trainingsset(80%) und ein Testset (20%) auf \n",
    "# (nutze \"random-state\", um das Vorgehen reproduzieren zu können) \n"
   ]
  },
  {
   "cell_type": "code",
   "execution_count": 34,
   "metadata": {},
   "outputs": [],
   "source": [
    "# 27) Schreibe nun je das Training- und das Testset in eine neue CSV-Datei\n",
    "\n"
   ]
  },
  {
   "cell_type": "code",
   "execution_count": null,
   "metadata": {},
   "outputs": [],
   "source": []
  },
  {
   "cell_type": "code",
   "execution_count": null,
   "metadata": {},
   "outputs": [],
   "source": []
  },
  {
   "cell_type": "code",
   "execution_count": null,
   "metadata": {},
   "outputs": [],
   "source": []
  }
 ],
 "metadata": {
  "kernelspec": {
   "display_name": "Python 3",
   "language": "python",
   "name": "python3"
  },
  "language_info": {
   "codemirror_mode": {
    "name": "ipython",
    "version": 3
   },
   "file_extension": ".py",
   "mimetype": "text/x-python",
   "name": "python",
   "nbconvert_exporter": "python",
   "pygments_lexer": "ipython3",
   "version": "3.7.3"
  }
 },
 "nbformat": 4,
 "nbformat_minor": 2
}
