{
 "cells": [
  {
   "cell_type": "markdown",
   "metadata": {},
   "source": [
    "### Übungsaufgaben zu Pandas: Lösungen\n",
    "\n",
    "--> vgl. für die Dokumentation von Pandas z.B. https://pandas.pydata.org/pandas-docs/stable/"
   ]
  },
  {
   "cell_type": "code",
   "execution_count": 3,
   "metadata": {},
   "outputs": [],
   "source": [
    "import pandas as pd\n",
    "import numpy as np"
   ]
  },
  {
   "cell_type": "code",
   "execution_count": 4,
   "metadata": {},
   "outputs": [
    {
     "name": "stdout",
     "output_type": "stream",
     "text": [
      "      name  punkte  versuche bestanden\n",
      "a  claudia    12.5         1        ja\n",
      "b    emily     9.0         3      nein\n",
      "c   daniel    16.5         2        ja\n",
      "d     fred     NaN         3      nein\n",
      "e   hannah     9.0         2      nein\n",
      "f     anna    20.0         3        ja\n",
      "g     ilse    14.5         1        ja\n",
      "h    jonas     NaN         1      nein\n",
      "i   gustav     8.0         2      nein\n",
      "j    berta    19.0         1        ja\n"
     ]
    }
   ],
   "source": [
    "exam_data  = {'name': ['claudia', 'emily', 'daniel', 'fred', 'hannah', 'anna', 'ilse', 'jonas', 'gustav', 'berta'],\n",
    "        'punkte': [12.5, 9, 16.5, np.nan, 9, 20, 14.5, np.nan, 8, 19],\n",
    "        'versuche': [1, 3, 2, 3, 2, 3, 1, 1, 2, 1],\n",
    "        'bestanden': ['ja', 'nein', 'ja', 'nein', 'nein', 'ja', 'ja', 'nein', 'nein', 'ja']}\n",
    "\n",
    "labels = ['a', 'b', 'c', 'd', 'e', 'f', 'g', 'h', 'i', 'j']\n",
    "\n",
    "df = pd.DataFrame(exam_data , index=labels)\n",
    "print(df)"
   ]
  },
  {
   "cell_type": "code",
   "execution_count": 5,
   "metadata": {},
   "outputs": [
    {
     "name": "stdout",
     "output_type": "stream",
     "text": [
      "<class 'pandas.core.frame.DataFrame'>\n",
      "Index: 10 entries, a to j\n",
      "Data columns (total 4 columns):\n",
      "name         10 non-null object\n",
      "punkte       8 non-null float64\n",
      "versuche     10 non-null int64\n",
      "bestanden    10 non-null object\n",
      "dtypes: float64(1), int64(1), object(2)\n",
      "memory usage: 400.0+ bytes\n",
      "None\n"
     ]
    }
   ],
   "source": [
    "# Eine Zusammenfassung der Daten\n",
    "\n",
    "print(df.info())"
   ]
  },
  {
   "cell_type": "code",
   "execution_count": 6,
   "metadata": {},
   "outputs": [
    {
     "name": "stdout",
     "output_type": "stream",
     "text": [
      "Anzahl der Zeilen: 10\n",
      "Anzahl der Spalten: 4\n"
     ]
    }
   ],
   "source": [
    "# 1) Gib die Anzahl der Zeilen und die Anzahl der Spalten aus\n",
    "\n",
    "print(\"Anzahl der Zeilen: \"+str(len(df.axes[0])))\n",
    "print(\"Anzahl der Spalten: \"+str(len(df.axes[1])))"
   ]
  },
  {
   "cell_type": "code",
   "execution_count": 7,
   "metadata": {},
   "outputs": [
    {
     "name": "stdout",
     "output_type": "stream",
     "text": [
      "      name  punkte  versuche bestanden\n",
      "a  claudia    12.5         1        ja\n",
      "b    emily     9.0         3      nein\n",
      "c   daniel    16.5         2        ja\n"
     ]
    }
   ],
   "source": [
    "# 2) Gib nur die ersten drei Zeilen des Dataframes aus\n",
    "\n",
    "print(df[:3])\n",
    "\n",
    "# oder:\n",
    "#print(df.iloc[:3])"
   ]
  },
  {
   "cell_type": "code",
   "execution_count": 15,
   "metadata": {},
   "outputs": [
    {
     "name": "stdout",
     "output_type": "stream",
     "text": [
      "a    claudia\n",
      "b      emily\n",
      "c     daniel\n",
      "d       fred\n",
      "e     hannah\n",
      "f       anna\n",
      "g       ilse\n",
      "h      jonas\n",
      "i     gustav\n",
      "j      berta\n",
      "Name: name, dtype: object\n"
     ]
    }
   ],
   "source": [
    "# 3) Gib nur die Spalten \"name\" und \"punkte\" aus \n",
    "\n",
    "print(df['name'])\n",
    "#print(df[['name', 'punkte']])"
   ]
  },
  {
   "cell_type": "code",
   "execution_count": 9,
   "metadata": {},
   "outputs": [
    {
     "name": "stdout",
     "output_type": "stream",
     "text": [
      "   punkte bestanden\n",
      "b     9.0      nein\n",
      "d     NaN      nein\n",
      "f    20.0        ja\n",
      "g    14.5        ja\n"
     ]
    }
   ],
   "source": [
    "# 4) Gib nur die Spalten \"punkte\" und \"bestanden\" für Zeile b, d, f und g aus\n",
    "print(df.iloc[[1, 3, 5, 6], [1, 3]])"
   ]
  },
  {
   "cell_type": "code",
   "execution_count": 10,
   "metadata": {},
   "outputs": [
    {
     "name": "stdout",
     "output_type": "stream",
     "text": [
      "    name  punkte  versuche bestanden\n",
      "d   fred     NaN         3      nein\n",
      "h  jonas     NaN         1      nein\n"
     ]
    }
   ],
   "source": [
    "# 5) Gib nur die Zeilen aus, in denen Daten bei \"Punkte\" fehlen\n",
    "\n",
    "print(df[df['punkte'].isnull()])"
   ]
  },
  {
   "cell_type": "code",
   "execution_count": 11,
   "metadata": {},
   "outputs": [
    {
     "name": "stdout",
     "output_type": "stream",
     "text": [
      "    name  punkte  versuche bestanden\n",
      "b  emily     9.0         3      nein\n",
      "d   fred     NaN         3      nein\n",
      "f   anna    20.0         3        ja\n"
     ]
    }
   ],
   "source": [
    "# 6) Gib alle Daten für die Personen aus, die mehr als zwei Versuche gebraucht haben\n",
    "print(df[df['versuche'] > 2])"
   ]
  },
  {
   "cell_type": "code",
   "execution_count": 12,
   "metadata": {},
   "outputs": [
    {
     "name": "stdout",
     "output_type": "stream",
     "text": [
      "     name  punkte  versuche bestanden\n",
      "c  daniel    16.5         2        ja\n",
      "f    anna    20.0         3        ja\n",
      "j   berta    19.0         1        ja\n"
     ]
    }
   ],
   "source": [
    "# 7) Gib alle Daten für die Personen aus, die zwischen 15 und 20 Punkte haben\n",
    "\n",
    "print(df[df['punkte'].between(15, 20)])"
   ]
  },
  {
   "cell_type": "code",
   "execution_count": 16,
   "metadata": {},
   "outputs": [
    {
     "name": "stdout",
     "output_type": "stream",
     "text": [
      "Die Anzahl der Punkte in Zeile d in 11.5 verändern\n",
      "      name  punkte  versuche bestanden\n",
      "a  claudia    12.5         1        ja\n",
      "b    emily     9.0         3      nein\n",
      "c   daniel    16.5         2        ja\n",
      "d     fred    11.5         3      nein\n",
      "e   hannah     9.0         2      nein\n",
      "f     anna    20.0         3        ja\n",
      "g     ilse    14.5         1        ja\n",
      "h    jonas     NaN         1      nein\n",
      "i   gustav     8.0         2      nein\n",
      "j    berta    19.0         1        ja\n"
     ]
    }
   ],
   "source": [
    "# 8) Gib Fred 11.5 Punkte \n",
    "\n",
    "print(\"Die Anzahl der Punkte in Zeile d in 11.5 verändern\")\n",
    "df.loc['d', 'punkte'] = 11.5\n",
    "print(df)"
   ]
  },
  {
   "cell_type": "code",
   "execution_count": 14,
   "metadata": {},
   "outputs": [
    {
     "name": "stdout",
     "output_type": "stream",
     "text": [
      "19\n"
     ]
    }
   ],
   "source": [
    "# 9) Berechne die Gesamtanzahl aller Versuche der Studierenden\n",
    "\n",
    "print(df['versuche'].sum())"
   ]
  },
  {
   "cell_type": "code",
   "execution_count": 17,
   "metadata": {},
   "outputs": [
    {
     "name": "stdout",
     "output_type": "stream",
     "text": [
      "13.333333333333334\n"
     ]
    },
    {
     "data": {
      "text/html": [
       "<div>\n",
       "<style scoped>\n",
       "    .dataframe tbody tr th:only-of-type {\n",
       "        vertical-align: middle;\n",
       "    }\n",
       "\n",
       "    .dataframe tbody tr th {\n",
       "        vertical-align: top;\n",
       "    }\n",
       "\n",
       "    .dataframe thead th {\n",
       "        text-align: right;\n",
       "    }\n",
       "</style>\n",
       "<table border=\"1\" class=\"dataframe\">\n",
       "  <thead>\n",
       "    <tr style=\"text-align: right;\">\n",
       "      <th></th>\n",
       "      <th>punkte</th>\n",
       "      <th>versuche</th>\n",
       "    </tr>\n",
       "  </thead>\n",
       "  <tbody>\n",
       "    <tr>\n",
       "      <th>count</th>\n",
       "      <td>9.000000</td>\n",
       "      <td>10.000000</td>\n",
       "    </tr>\n",
       "    <tr>\n",
       "      <th>mean</th>\n",
       "      <td>13.333333</td>\n",
       "      <td>1.900000</td>\n",
       "    </tr>\n",
       "    <tr>\n",
       "      <th>std</th>\n",
       "      <td>4.444097</td>\n",
       "      <td>0.875595</td>\n",
       "    </tr>\n",
       "    <tr>\n",
       "      <th>min</th>\n",
       "      <td>8.000000</td>\n",
       "      <td>1.000000</td>\n",
       "    </tr>\n",
       "    <tr>\n",
       "      <th>25%</th>\n",
       "      <td>9.000000</td>\n",
       "      <td>1.000000</td>\n",
       "    </tr>\n",
       "    <tr>\n",
       "      <th>50%</th>\n",
       "      <td>12.500000</td>\n",
       "      <td>2.000000</td>\n",
       "    </tr>\n",
       "    <tr>\n",
       "      <th>75%</th>\n",
       "      <td>16.500000</td>\n",
       "      <td>2.750000</td>\n",
       "    </tr>\n",
       "    <tr>\n",
       "      <th>max</th>\n",
       "      <td>20.000000</td>\n",
       "      <td>3.000000</td>\n",
       "    </tr>\n",
       "  </tbody>\n",
       "</table>\n",
       "</div>"
      ],
      "text/plain": [
       "          punkte   versuche\n",
       "count   9.000000  10.000000\n",
       "mean   13.333333   1.900000\n",
       "std     4.444097   0.875595\n",
       "min     8.000000   1.000000\n",
       "25%     9.000000   1.000000\n",
       "50%    12.500000   2.000000\n",
       "75%    16.500000   2.750000\n",
       "max    20.000000   3.000000"
      ]
     },
     "execution_count": 17,
     "metadata": {},
     "output_type": "execute_result"
    }
   ],
   "source": [
    "# 10) Berechne den Mittelwert der Punkte der Studierenden\n",
    "\n",
    "print(df['punkte'].mean())\n",
    "\n",
    "# oder auch mit:\n",
    "df.describe()"
   ]
  },
  {
   "cell_type": "code",
   "execution_count": 20,
   "metadata": {},
   "outputs": [
    {
     "name": "stdout",
     "output_type": "stream",
     "text": [
      "      name  punkte  versuche bestanden\n",
      "f     anna    20.0         3        ja\n",
      "j    berta    19.0         1        ja\n",
      "a  claudia    12.5         1        ja\n",
      "c   daniel    16.5         2        ja\n",
      "b    emily     9.0         3      nein\n",
      "d     fred    11.5         3      nein\n",
      "i   gustav     8.0         2      nein\n",
      "e   hannah     9.0         2      nein\n",
      "g     ilse    14.5         1        ja\n",
      "h    jonas     NaN         1      nein\n"
     ]
    }
   ],
   "source": [
    "# 11) Sortiere die Daten alphabetisch nach Namen \n",
    "\n",
    "print(df.sort_values(by='name', ascending=True))"
   ]
  },
  {
   "cell_type": "code",
   "execution_count": 21,
   "metadata": {},
   "outputs": [
    {
     "name": "stdout",
     "output_type": "stream",
     "text": [
      "      name  punkte  versuche  bestanden\n",
      "a  claudia    12.5         1       True\n",
      "b    emily     9.0         3      False\n",
      "c   daniel    16.5         2       True\n",
      "d     fred    11.5         3      False\n",
      "e   hannah     9.0         2      False\n",
      "f     anna    20.0         3       True\n",
      "g     ilse    14.5         1       True\n",
      "h    jonas     NaN         1      False\n",
      "i   gustav     8.0         2      False\n",
      "j    berta    19.0         1       True\n"
     ]
    }
   ],
   "source": [
    "# 12) Mach in der Spalte \"bestanden\" aus ja 'True' und aus nein 'False'\n",
    "\n",
    "df['bestanden'] = df['bestanden'].map({'ja': True, 'nein': False})\n",
    "print(df)"
   ]
  },
  {
   "cell_type": "code",
   "execution_count": 22,
   "metadata": {},
   "outputs": [
    {
     "name": "stdout",
     "output_type": "stream",
     "text": [
      "      name  punkte  versuche  bestanden  semester\n",
      "a  claudia    12.5         1       True         1\n",
      "b    emily     9.0         3      False         2\n",
      "c   daniel    16.5         2       True         1\n",
      "d     fred    11.5         3      False         1\n",
      "e   hannah     9.0         2      False         2\n",
      "f     anna    20.0         3       True         2\n",
      "g     ilse    14.5         1       True         3\n",
      "h    jonas     NaN         1      False         3\n",
      "i   gustav     8.0         2      False         4\n",
      "j    berta    19.0         1       True         1\n"
     ]
    }
   ],
   "source": [
    "# 13) Füge eine neue Spalte \"Semester\" hinzu (die Werte kannst du dir ausdenken)\n",
    "\n",
    "semester = [1,2,1,1,2,2,3,3,4,1]\n",
    "df['semester'] = semester\n",
    "print(df)"
   ]
  },
  {
   "cell_type": "code",
   "execution_count": 25,
   "metadata": {},
   "outputs": [
    {
     "name": "stdout",
     "output_type": "stream",
     "text": [
      "      name  punkte  versuche bestanden  semester\n",
      "a  claudia    12.5         1      True         1\n",
      "b    emily     9.0         3     False         2\n",
      "c   daniel    16.5         2      True         1\n",
      "d     fred    11.5         3     False         1\n",
      "e   hannah     9.0         2     False         2\n",
      "f     anna    20.0         3      True         2\n",
      "g     ilse    14.5         1      True         3\n",
      "h    jonas     NaN         1     False         3\n",
      "i   gustav     8.0         2     False         4\n",
      "j    berta    19.0         1      True         1\n",
      "k    katja    15.5         1        ja         1\n"
     ]
    }
   ],
   "source": [
    "# 14) Füge eine neue Zeile für \"Katja\" hinzu (die Werte kannst du dir ausdenken )\n",
    "\n",
    "df.loc['k'] = ['katja', 15.5, 1, 'ja',  1]\n",
    "print(df)"
   ]
  },
  {
   "cell_type": "code",
   "execution_count": 26,
   "metadata": {},
   "outputs": [
    {
     "name": "stdout",
     "output_type": "stream",
     "text": [
      "      name  punkte  versuche bestanden  semester\n",
      "a  claudia    12.5         1      True         1\n",
      "b    emily     9.0         3     False         2\n",
      "c   daniel    16.5         2      True         1\n",
      "d     fred    11.5         3     False         1\n",
      "e   hannah     9.0         2     False         2\n",
      "f     anna    20.0         3      True         2\n",
      "g     ilse    14.5         1      True         3\n",
      "h    jonas     NaN         1     False         3\n",
      "i   gustav     8.0         2     False         4\n",
      "j    berta    19.0         1      True         1\n"
     ]
    }
   ],
   "source": [
    "# 15) Lösche die  Zeile für \"Katja\" wieder \n",
    "\n",
    "df = df.drop('k')\n",
    "print(df)"
   ]
  },
  {
   "cell_type": "code",
   "execution_count": 18,
   "metadata": {},
   "outputs": [
    {
     "name": "stdout",
     "output_type": "stream",
     "text": [
      "      name punkte  versuche bestanden\n",
      "a  claudia   12.5         1        ja\n",
      "b    emily      9         3      nein\n",
      "c   daniel   16.5         2        ja\n",
      "d     fred   11.5         3      nein\n",
      "e   hannah      9         2      nein\n",
      "f     anna     20         3        ja\n",
      "g     ilse   14.5         1        ja\n",
      "h    jonas                1      nein\n",
      "i   gustav      8         2      nein\n",
      "j    berta     19         1        ja\n"
     ]
    }
   ],
   "source": [
    "# 16) Ersetze alle 'na'-Werte mit einer Null \n",
    "\n",
    "df =  df.fillna()\n",
    "print(df)"
   ]
  },
  {
   "cell_type": "code",
   "execution_count": 30,
   "metadata": {},
   "outputs": [
    {
     "name": "stdout",
     "output_type": "stream",
     "text": [
      "      name  punkte  versuche  bestanden  semester\n",
      "0  claudia    12.5         1       True         1\n",
      "1    emily     9.0         3      False         2\n",
      "2   daniel    16.5         2       True         1\n",
      "3     fred    11.5         3      False         1\n",
      "4   hannah     9.0         2      False         2\n",
      "5     anna    20.0         3       True         2\n",
      "6     ilse    14.5         1       True         3\n",
      "7    jonas     0.0         1      False         3\n",
      "8   gustav     8.0         2      False         4\n",
      "9    berta    19.0         1       True         1\n"
     ]
    }
   ],
   "source": [
    "# 17) Schreibe die Daten in eine neue CSV-Datei \n",
    "\n",
    "df.to_csv('neu.csv', sep=',', index=False)\n",
    "\n",
    "new_df = pd.read_csv('neu.csv')\n",
    "print(new_df)"
   ]
  },
  {
   "cell_type": "code",
   "execution_count": 31,
   "metadata": {},
   "outputs": [],
   "source": [
    "#####"
   ]
  },
  {
   "cell_type": "markdown",
   "metadata": {},
   "source": [
    "#### und nun mit importierten Daten... "
   ]
  },
  {
   "cell_type": "code",
   "execution_count": 32,
   "metadata": {},
   "outputs": [
    {
     "name": "stderr",
     "output_type": "stream",
     "text": [
      "b'Skipping line 31: expected 24 fields, saw 25\\n'\n"
     ]
    }
   ],
   "source": [
    "data = pd.read_csv('movies_metadata.csv', encoding = \"ISO-8859-1\", error_bad_lines=False)"
   ]
  },
  {
   "cell_type": "code",
   "execution_count": 33,
   "metadata": {},
   "outputs": [],
   "source": [
    "#data.info()"
   ]
  },
  {
   "cell_type": "code",
   "execution_count": 34,
   "metadata": {},
   "outputs": [
    {
     "data": {
      "text/plain": [
       "(49, 24)"
      ]
     },
     "execution_count": 34,
     "metadata": {},
     "output_type": "execute_result"
    }
   ],
   "source": [
    "data.shape #(Zeilen, Spalten) "
   ]
  },
  {
   "cell_type": "code",
   "execution_count": 35,
   "metadata": {},
   "outputs": [
    {
     "data": {
      "text/plain": [
       "Index(['adult', 'belongs_to_collection', 'budget', 'genres', 'homepage', 'id',\n",
       "       'imdb_id', 'original_language', 'original_title', 'overview',\n",
       "       'popularity', 'poster_path', 'production_companies',\n",
       "       'production_countries', 'release_date', 'revenue', 'runtime',\n",
       "       'spoken_languages', 'status', 'tagline', 'title', 'video',\n",
       "       'vote_average', 'vote_count'],\n",
       "      dtype='object')"
      ]
     },
     "execution_count": 35,
     "metadata": {},
     "output_type": "execute_result"
    }
   ],
   "source": [
    "# 18) Lass dir alle Spalten des Datensatzes anzeigen\n",
    "\n",
    "data.columns"
   ]
  },
  {
   "cell_type": "code",
   "execution_count": 37,
   "metadata": {},
   "outputs": [
    {
     "name": "stdout",
     "output_type": "stream",
     "text": [
      "   adult                              belongs_to_collection    budget  \\\n",
      "0  False  {'id': 10194, 'name': 'Toy Story Collection', ...  30000000   \n",
      "1  False                                                NaN  65000000   \n",
      "2  False  {'id': 119050, 'name': 'Grumpy Old Men Collect...         0   \n",
      "3  False                                                NaN  16000000   \n",
      "4  False  {'id': 96871, 'name': 'Father of the Bride Col...         0   \n",
      "5  False                                                NaN  60000000   \n",
      "\n",
      "                                              genres  \\\n",
      "0  [{'id': 16, 'name': 'Animation'}, {'id': 35, '...   \n",
      "1  [{'id': 12, 'name': 'Adventure'}, {'id': 14, '...   \n",
      "2  [{'id': 10749, 'name': 'Romance'}, {'id': 35, ...   \n",
      "3  [{'id': 35, 'name': 'Comedy'}, {'id': 18, 'nam...   \n",
      "4                     [{'id': 35, 'name': 'Comedy'}]   \n",
      "5  [{'id': 28, 'name': 'Action'}, {'id': 80, 'nam...   \n",
      "\n",
      "                               homepage     id    imdb_id original_language  \\\n",
      "0  http://toystory.disney.com/toy-story    862  tt0114709                en   \n",
      "1                                   NaN   8844  tt0113497                en   \n",
      "2                                   NaN  15602  tt0113228                en   \n",
      "3                                   NaN  31357  tt0114885                en   \n",
      "4                                   NaN  11862  tt0113041                en   \n",
      "5                                   NaN    949  tt0113277                en   \n",
      "\n",
      "                original_title  \\\n",
      "0                    Toy Story   \n",
      "1                      Jumanji   \n",
      "2             Grumpier Old Men   \n",
      "3            Waiting to Exhale   \n",
      "4  Father of the Bride Part II   \n",
      "5                         Heat   \n",
      "\n",
      "                                            overview  ...  release_date  \\\n",
      "0  Led by Woody, Andy's toys live happily in his ...  ...    1995-10-30   \n",
      "1  When siblings Judy and Peter discover an encha...  ...    1995-12-15   \n",
      "2  A family wedding reignites the ancient feud be...  ...    1995-12-22   \n",
      "3  Cheated on, mistreated and stepped on, the wom...  ...    1995-12-22   \n",
      "4  Just when George Banks has recovered from his ...  ...    1995-02-10   \n",
      "5  Obsessive master thief, Neil McCauley leads a ...  ...    1995-12-15   \n",
      "\n",
      "     revenue runtime                                   spoken_languages  \\\n",
      "0  373554033    81.0           [{'iso_639_1': 'en', 'name': 'English'}]   \n",
      "1  262797249   104.0  [{'iso_639_1': 'en', 'name': 'English'}, {'iso...   \n",
      "2          0   101.0           [{'iso_639_1': 'en', 'name': 'English'}]   \n",
      "3   81452156   127.0           [{'iso_639_1': 'en', 'name': 'English'}]   \n",
      "4   76578911   106.0           [{'iso_639_1': 'en', 'name': 'English'}]   \n",
      "5  187436818   170.0  [{'iso_639_1': 'en', 'name': 'English'}, {'iso...   \n",
      "\n",
      "     status                                            tagline  \\\n",
      "0  Released                                                NaN   \n",
      "1  Released          Roll the dice and unleash the excitement!   \n",
      "2  Released  Still Yelling. Still Fighting. Still Ready for...   \n",
      "3  Released  Friends are the people who let you be yourself...   \n",
      "4  Released  Just When His World Is Back To Normal... He's ...   \n",
      "5  Released                           A Los Angeles Crime Saga   \n",
      "\n",
      "                         title  video vote_average vote_count  \n",
      "0                    Toy Story  False          7.7       5415  \n",
      "1                      Jumanji  False          6.9       2413  \n",
      "2             Grumpier Old Men  False          6.5         92  \n",
      "3            Waiting to Exhale  False          6.1         34  \n",
      "4  Father of the Bride Part II  False          5.7        173  \n",
      "5                         Heat  False          7.7       1886  \n",
      "\n",
      "[6 rows x 24 columns]\n"
     ]
    }
   ],
   "source": [
    "# 19) Lass dir nur die ersten 6 Zeilen anzeigen \n",
    "\n",
    "print(data.head(6))"
   ]
  },
  {
   "cell_type": "code",
   "execution_count": 38,
   "metadata": {},
   "outputs": [
    {
     "name": "stdout",
     "output_type": "stream",
     "text": [
      "                             title  \\\n",
      "0                        Toy Story   \n",
      "1                          Jumanji   \n",
      "2                 Grumpier Old Men   \n",
      "3                Waiting to Exhale   \n",
      "4      Father of the Bride Part II   \n",
      "5                             Heat   \n",
      "6                          Sabrina   \n",
      "7                     Tom and Huck   \n",
      "8                     Sudden Death   \n",
      "9                        GoldenEye   \n",
      "10          The American President   \n",
      "11     Dracula: Dead and Loving It   \n",
      "12                           Balto   \n",
      "13                           Nixon   \n",
      "14                Cutthroat Island   \n",
      "15                          Casino   \n",
      "16           Sense and Sensibility   \n",
      "17                      Four Rooms   \n",
      "18  Ace Ventura: When Nature Calls   \n",
      "19                     Money Train   \n",
      "20                      Get Shorty   \n",
      "21                         Copycat   \n",
      "22                       Assassins   \n",
      "23                          Powder   \n",
      "24               Leaving Las Vegas   \n",
      "25                         Othello   \n",
      "26                    Now and Then   \n",
      "27                      Persuasion   \n",
      "28       The City of Lost Children   \n",
      "29                 Dangerous Minds   \n",
      "30                  Twelve Monkeys   \n",
      "31                Wings of Courage   \n",
      "32                            Babe   \n",
      "33                      Carrington   \n",
      "34                Dead Man Walking   \n",
      "35          Across the Sea of Time   \n",
      "36                    It Takes Two   \n",
      "37                        Clueless   \n",
      "38        Cry, the Beloved Country   \n",
      "39                     Richard III   \n",
      "40                 Dead Presidents   \n",
      "41                     Restoration   \n",
      "42                   Mortal Kombat   \n",
      "43                      To Die For   \n",
      "44   How To Make An American Quilt   \n",
      "45                           Se7en   \n",
      "46                      Pocahontas   \n",
      "47           When Night Is Falling   \n",
      "48              The Usual Suspects   \n",
      "\n",
      "                                               genres  \n",
      "0   [{'id': 16, 'name': 'Animation'}, {'id': 35, '...  \n",
      "1   [{'id': 12, 'name': 'Adventure'}, {'id': 14, '...  \n",
      "2   [{'id': 10749, 'name': 'Romance'}, {'id': 35, ...  \n",
      "3   [{'id': 35, 'name': 'Comedy'}, {'id': 18, 'nam...  \n",
      "4                      [{'id': 35, 'name': 'Comedy'}]  \n",
      "5   [{'id': 28, 'name': 'Action'}, {'id': 80, 'nam...  \n",
      "6   [{'id': 35, 'name': 'Comedy'}, {'id': 10749, '...  \n",
      "7   [{'id': 28, 'name': 'Action'}, {'id': 12, 'nam...  \n",
      "8   [{'id': 28, 'name': 'Action'}, {'id': 12, 'nam...  \n",
      "9   [{'id': 12, 'name': 'Adventure'}, {'id': 28, '...  \n",
      "10  [{'id': 35, 'name': 'Comedy'}, {'id': 18, 'nam...  \n",
      "11  [{'id': 35, 'name': 'Comedy'}, {'id': 27, 'nam...  \n",
      "12  [{'id': 10751, 'name': 'Family'}, {'id': 16, '...  \n",
      "13  [{'id': 36, 'name': 'History'}, {'id': 18, 'na...  \n",
      "14  [{'id': 28, 'name': 'Action'}, {'id': 12, 'nam...  \n",
      "15  [{'id': 18, 'name': 'Drama'}, {'id': 80, 'name...  \n",
      "16  [{'id': 18, 'name': 'Drama'}, {'id': 10749, 'n...  \n",
      "17  [{'id': 80, 'name': 'Crime'}, {'id': 35, 'name...  \n",
      "18  [{'id': 80, 'name': 'Crime'}, {'id': 35, 'name...  \n",
      "19  [{'id': 28, 'name': 'Action'}, {'id': 35, 'nam...  \n",
      "20  [{'id': 35, 'name': 'Comedy'}, {'id': 53, 'nam...  \n",
      "21  [{'id': 18, 'name': 'Drama'}, {'id': 53, 'name...  \n",
      "22  [{'id': 28, 'name': 'Action'}, {'id': 12, 'nam...  \n",
      "23  [{'id': 18, 'name': 'Drama'}, {'id': 14, 'name...  \n",
      "24  [{'id': 18, 'name': 'Drama'}, {'id': 10749, 'n...  \n",
      "25                      [{'id': 18, 'name': 'Drama'}]  \n",
      "26  [{'id': 35, 'name': 'Comedy'}, {'id': 18, 'nam...  \n",
      "27  [{'id': 18, 'name': 'Drama'}, {'id': 10749, 'n...  \n",
      "28  [{'id': 14, 'name': 'Fantasy'}, {'id': 878, 'n...  \n",
      "29  [{'id': 18, 'name': 'Drama'}, {'id': 80, 'name...  \n",
      "30  [{'id': 878, 'name': 'Science Fiction'}, {'id'...  \n",
      "31  [{'id': 10749, 'name': 'Romance'}, {'id': 12, ...  \n",
      "32  [{'id': 14, 'name': 'Fantasy'}, {'id': 18, 'na...  \n",
      "33  [{'id': 36, 'name': 'History'}, {'id': 18, 'na...  \n",
      "34                      [{'id': 18, 'name': 'Drama'}]  \n",
      "35  [{'id': 12, 'name': 'Adventure'}, {'id': 36, '...  \n",
      "36  [{'id': 35, 'name': 'Comedy'}, {'id': 10751, '...  \n",
      "37  [{'id': 35, 'name': 'Comedy'}, {'id': 18, 'nam...  \n",
      "38                      [{'id': 18, 'name': 'Drama'}]  \n",
      "39  [{'id': 18, 'name': 'Drama'}, {'id': 10752, 'n...  \n",
      "40  [{'id': 28, 'name': 'Action'}, {'id': 80, 'nam...  \n",
      "41  [{'id': 18, 'name': 'Drama'}, {'id': 10749, 'n...  \n",
      "42  [{'id': 28, 'name': 'Action'}, {'id': 14, 'nam...  \n",
      "43  [{'id': 14, 'name': 'Fantasy'}, {'id': 18, 'na...  \n",
      "44  [{'id': 18, 'name': 'Drama'}, {'id': 10749, 'n...  \n",
      "45  [{'id': 80, 'name': 'Crime'}, {'id': 9648, 'na...  \n",
      "46  [{'id': 12, 'name': 'Adventure'}, {'id': 16, '...  \n",
      "47  [{'id': 18, 'name': 'Drama'}, {'id': 10749, 'n...  \n",
      "48  [{'id': 18, 'name': 'Drama'}, {'id': 80, 'name...  \n"
     ]
    }
   ],
   "source": [
    "# 20) Gib alle Daten für die Spalten \"title\" und \"genre\" aus\n",
    "\n",
    "print(data[['title', 'genres']])"
   ]
  },
  {
   "cell_type": "code",
   "execution_count": 39,
   "metadata": {},
   "outputs": [
    {
     "name": "stdout",
     "output_type": "stream",
     "text": [
      "adult                                                                False\n",
      "belongs_to_collection                                                  NaN\n",
      "budget                                                            16000000\n",
      "genres                   [{'id': 35, 'name': 'Comedy'}, {'id': 18, 'nam...\n",
      "homepage                                                               NaN\n",
      "id                                                                   31357\n",
      "imdb_id                                                          tt0114885\n",
      "original_language                                                       en\n",
      "original_title                                           Waiting to Exhale\n",
      "overview                 Cheated on, mistreated and stepped on, the wom...\n",
      "popularity                                                         3.85949\n",
      "poster_path                               /16XOMpEaLWkrcPqSQqhTmeJuqQl.jpg\n",
      "production_companies     [{'name': 'Twentieth Century Fox Film Corporat...\n",
      "production_countries     [{'iso_3166_1': 'US', 'name': 'United States o...\n",
      "release_date                                                    1995-12-22\n",
      "revenue                                                           81452156\n",
      "runtime                                                                127\n",
      "spoken_languages                  [{'iso_639_1': 'en', 'name': 'English'}]\n",
      "status                                                            Released\n",
      "tagline                  Friends are the people who let you be yourself...\n",
      "title                                                    Waiting to Exhale\n",
      "video                                                                False\n",
      "vote_average                                                           6.1\n",
      "vote_count                                                              34\n",
      "Name: 3, dtype: object\n"
     ]
    }
   ],
   "source": [
    "# 21) Lass dir die Daten des Films in der vierten Zeile anzeigen \n",
    "\n",
    "print(data.iloc[3]) "
   ]
  },
  {
   "cell_type": "code",
   "execution_count": 40,
   "metadata": {},
   "outputs": [
    {
     "name": "stdout",
     "output_type": "stream",
     "text": [
      "adult                                                                False\n",
      "belongs_to_collection                                                  NaN\n",
      "budget                                                            62000000\n",
      "genres                   [{'id': 35, 'name': 'Comedy'}, {'id': 18, 'nam...\n",
      "homepage                                                               NaN\n",
      "id                                                                    9087\n",
      "imdb_id                                                          tt0112346\n",
      "original_language                                                       en\n",
      "original_title                                      The American President\n",
      "overview                 Widowed U.S. president Andrew Shepherd, one of...\n",
      "popularity                                                         6.31844\n",
      "poster_path                               /lymPNGLZgPHuqM29rKMGV46ANij.jpg\n",
      "production_companies     [{'name': 'Columbia Pictures', 'id': 5}, {'nam...\n",
      "production_countries     [{'iso_3166_1': 'US', 'name': 'United States o...\n",
      "release_date                                                    1995-11-17\n",
      "revenue                                                          107879496\n",
      "runtime                                                                106\n",
      "spoken_languages                  [{'iso_639_1': 'en', 'name': 'English'}]\n",
      "status                                                            Released\n",
      "tagline                  Why can't the most powerful man in the world h...\n",
      "video                                                                False\n",
      "vote_average                                                           6.5\n",
      "vote_count                                                             199\n",
      "Name: The American President, dtype: object\n"
     ]
    }
   ],
   "source": [
    "# 22) Lass dir die Daten für den Film \"The American President\" anzeigen\n",
    "\n",
    "title = data.set_index('title')\n",
    "print(title.loc['The American President'])"
   ]
  },
  {
   "cell_type": "code",
   "execution_count": 41,
   "metadata": {},
   "outputs": [
    {
     "name": "stdout",
     "output_type": "stream",
     "text": [
      "                         title release_date original_language  \\\n",
      "0                    Toy Story   1995-10-30                en   \n",
      "1                      Jumanji   1995-12-15                en   \n",
      "2             Grumpier Old Men   1995-12-22                en   \n",
      "3            Waiting to Exhale   1995-12-22                en   \n",
      "4  Father of the Bride Part II   1995-02-10                en   \n",
      "5                         Heat   1995-12-15                en   \n",
      "6                      Sabrina   1995-12-15                en   \n",
      "7                 Tom and Huck   1995-12-22                en   \n",
      "8                 Sudden Death   1995-12-22                en   \n",
      "9                    GoldenEye   1995-11-16                en   \n",
      "\n",
      "                                    spoken_languages  \n",
      "0           [{'iso_639_1': 'en', 'name': 'English'}]  \n",
      "1  [{'iso_639_1': 'en', 'name': 'English'}, {'iso...  \n",
      "2           [{'iso_639_1': 'en', 'name': 'English'}]  \n",
      "3           [{'iso_639_1': 'en', 'name': 'English'}]  \n",
      "4           [{'iso_639_1': 'en', 'name': 'English'}]  \n",
      "5  [{'iso_639_1': 'en', 'name': 'English'}, {'iso...  \n",
      "6  [{'iso_639_1': 'fr', 'name': 'Français'}, {'is...  \n",
      "7  [{'iso_639_1': 'en', 'name': 'English'}, {'iso...  \n",
      "8           [{'iso_639_1': 'en', 'name': 'English'}]  \n",
      "9  [{'iso_639_1': 'en', 'name': 'English'}, {'iso...  \n"
     ]
    }
   ],
   "source": [
    "# 23) Erzeuge einen kleineren Datensatz, der nur noch die Daten dieser Spalten enthält:\n",
    "\n",
    "# 'title',\n",
    "# 'release_date'\n",
    "# 'original_language', \n",
    "# 'spoken_languages', \n",
    "\n",
    "small_data = data[['title', 'release_date', 'original_language', 'spoken_languages']]\n",
    "print(small_data.head(10))"
   ]
  },
  {
   "cell_type": "code",
   "execution_count": 42,
   "metadata": {},
   "outputs": [
    {
     "data": {
      "text/plain": [
       "(49, 4)"
      ]
     },
     "execution_count": 42,
     "metadata": {},
     "output_type": "execute_result"
    }
   ],
   "source": [
    "small_data.shape"
   ]
  },
  {
   "cell_type": "code",
   "execution_count": 43,
   "metadata": {},
   "outputs": [
    {
     "name": "stdout",
     "output_type": "stream",
     "text": [
      "                             title release_date original_language  \\\n",
      "4      Father of the Bride Part II   1995-02-10                en   \n",
      "47           When Night Is Falling   1995-05-05                en   \n",
      "28       The City of Lost Children   1995-05-16                fr   \n",
      "43                      To Die For   1995-05-20                en   \n",
      "46                      Pocahontas   1995-06-14                en   \n",
      "32                            Babe   1995-07-18                en   \n",
      "48              The Usual Suspects   1995-07-19                en   \n",
      "37                        Clueless   1995-07-19                en   \n",
      "29                 Dangerous Minds   1995-08-11                en   \n",
      "42                   Mortal Kombat   1995-08-18                en   \n",
      "45                           Se7en   1995-09-22                en   \n",
      "27                      Persuasion   1995-09-27                en   \n",
      "44   How To Make An American Quilt   1995-10-06                en   \n",
      "40                 Dead Presidents   1995-10-06                en   \n",
      "22                       Assassins   1995-10-06                en   \n",
      "35          Across the Sea of Time   1995-10-20                en   \n",
      "26                    Now and Then   1995-10-20                en   \n",
      "20                      Get Shorty   1995-10-20                en   \n",
      "23                          Powder   1995-10-27                en   \n",
      "21                         Copycat   1995-10-27                en   \n",
      "24               Leaving Las Vegas   1995-10-27                en   \n",
      "0                        Toy Story   1995-10-30                en   \n",
      "33                      Carrington   1995-11-08                en   \n",
      "18  Ace Ventura: When Nature Calls   1995-11-10                en   \n",
      "9                        GoldenEye   1995-11-16                en   \n",
      "36                    It Takes Two   1995-11-17                en   \n",
      "10          The American President   1995-11-17                en   \n",
      "19                     Money Train   1995-11-21                en   \n",
      "15                          Casino   1995-11-22                en   \n",
      "17                      Four Rooms   1995-12-09                en   \n",
      "16           Sense and Sensibility   1995-12-13                en   \n",
      "38        Cry, the Beloved Country   1995-12-15                en   \n",
      "1                          Jumanji   1995-12-15                en   \n",
      "5                             Heat   1995-12-15                en   \n",
      "25                         Othello   1995-12-15                en   \n",
      "6                          Sabrina   1995-12-15                en   \n",
      "2                 Grumpier Old Men   1995-12-22                en   \n",
      "3                Waiting to Exhale   1995-12-22                en   \n",
      "7                     Tom and Huck   1995-12-22                en   \n",
      "11     Dracula: Dead and Loving It   1995-12-22                en   \n",
      "12                           Balto   1995-12-22                en   \n",
      "8                     Sudden Death   1995-12-22                en   \n",
      "14                Cutthroat Island   1995-12-22                en   \n",
      "13                           Nixon   1995-12-22                en   \n",
      "41                     Restoration   1995-12-29                en   \n",
      "30                  Twelve Monkeys   1995-12-29                en   \n",
      "39                     Richard III   1995-12-29                en   \n",
      "34                Dead Man Walking   1995-12-29                en   \n",
      "31                Wings of Courage   1996-09-18                fr   \n",
      "\n",
      "                                     spoken_languages  \n",
      "4            [{'iso_639_1': 'en', 'name': 'English'}]  \n",
      "47           [{'iso_639_1': 'en', 'name': 'English'}]  \n",
      "28  [{'iso_639_1': 'cn', 'name': '??? / ???'}, {'i...  \n",
      "43           [{'iso_639_1': 'en', 'name': 'English'}]  \n",
      "46           [{'iso_639_1': 'en', 'name': 'English'}]  \n",
      "32           [{'iso_639_1': 'en', 'name': 'English'}]  \n",
      "48  [{'iso_639_1': 'es', 'name': 'Español'}, {'iso...  \n",
      "37  [{'iso_639_1': 'es', 'name': 'Español'}, {'iso...  \n",
      "29           [{'iso_639_1': 'en', 'name': 'English'}]  \n",
      "42           [{'iso_639_1': 'en', 'name': 'English'}]  \n",
      "45           [{'iso_639_1': 'en', 'name': 'English'}]  \n",
      "27           [{'iso_639_1': 'en', 'name': 'English'}]  \n",
      "44           [{'iso_639_1': 'en', 'name': 'English'}]  \n",
      "40           [{'iso_639_1': 'en', 'name': 'English'}]  \n",
      "22  [{'iso_639_1': 'en', 'name': 'English'}, {'iso...  \n",
      "35  [{'iso_639_1': 'ru', 'name': 'P??????'}, {'iso...  \n",
      "26           [{'iso_639_1': 'en', 'name': 'English'}]  \n",
      "20           [{'iso_639_1': 'en', 'name': 'English'}]  \n",
      "23           [{'iso_639_1': 'en', 'name': 'English'}]  \n",
      "21  [{'iso_639_1': 'en', 'name': 'English'}, {'iso...  \n",
      "24           [{'iso_639_1': 'en', 'name': 'English'}]  \n",
      "0            [{'iso_639_1': 'en', 'name': 'English'}]  \n",
      "33           [{'iso_639_1': 'en', 'name': 'English'}]  \n",
      "18           [{'iso_639_1': 'en', 'name': 'English'}]  \n",
      "9   [{'iso_639_1': 'en', 'name': 'English'}, {'iso...  \n",
      "36           [{'iso_639_1': 'en', 'name': 'English'}]  \n",
      "10           [{'iso_639_1': 'en', 'name': 'English'}]  \n",
      "19           [{'iso_639_1': 'en', 'name': 'English'}]  \n",
      "15           [{'iso_639_1': 'en', 'name': 'English'}]  \n",
      "17           [{'iso_639_1': 'en', 'name': 'English'}]  \n",
      "16           [{'iso_639_1': 'en', 'name': 'English'}]  \n",
      "38           [{'iso_639_1': 'en', 'name': 'English'}]  \n",
      "1   [{'iso_639_1': 'en', 'name': 'English'}, {'iso...  \n",
      "5   [{'iso_639_1': 'en', 'name': 'English'}, {'iso...  \n",
      "25           [{'iso_639_1': 'en', 'name': 'English'}]  \n",
      "6   [{'iso_639_1': 'fr', 'name': 'Français'}, {'is...  \n",
      "2            [{'iso_639_1': 'en', 'name': 'English'}]  \n",
      "3            [{'iso_639_1': 'en', 'name': 'English'}]  \n",
      "7   [{'iso_639_1': 'en', 'name': 'English'}, {'iso...  \n",
      "11  [{'iso_639_1': 'en', 'name': 'English'}, {'iso...  \n",
      "12           [{'iso_639_1': 'en', 'name': 'English'}]  \n",
      "8            [{'iso_639_1': 'en', 'name': 'English'}]  \n",
      "14  [{'iso_639_1': 'en', 'name': 'English'}, {'iso...  \n",
      "13           [{'iso_639_1': 'en', 'name': 'English'}]  \n",
      "41  [{'iso_639_1': 'en', 'name': 'English'}, {'iso...  \n",
      "30  [{'iso_639_1': 'en', 'name': 'English'}, {'iso...  \n",
      "39           [{'iso_639_1': 'en', 'name': 'English'}]  \n",
      "34           [{'iso_639_1': 'en', 'name': 'English'}]  \n",
      "31           [{'iso_639_1': 'en', 'name': 'English'}]  \n"
     ]
    }
   ],
   "source": [
    "# 24) Sortiere diesen neuen Datensatz nach Erscheinungsdatum\n",
    "print(small_data.sort_values('release_date'))"
   ]
  },
  {
   "cell_type": "code",
   "execution_count": 44,
   "metadata": {},
   "outputs": [],
   "source": [
    "# 25) Shuffel den (originalen) Datensatz bzw. bringe ihn in eine zufällige Reihenfolge\n",
    "\n",
    "data = data.sample(frac=1)"
   ]
  },
  {
   "cell_type": "code",
   "execution_count": 45,
   "metadata": {},
   "outputs": [],
   "source": [
    "#oder mit sklearn:\n",
    "from sklearn.utils import shuffle\n",
    "data = shuffle(data)"
   ]
  },
  {
   "cell_type": "code",
   "execution_count": 46,
   "metadata": {},
   "outputs": [
    {
     "data": {
      "text/plain": [
       "(49, 24)"
      ]
     },
     "execution_count": 46,
     "metadata": {},
     "output_type": "execute_result"
    }
   ],
   "source": [
    "data.shape"
   ]
  },
  {
   "cell_type": "code",
   "execution_count": 47,
   "metadata": {},
   "outputs": [
    {
     "name": "stdout",
     "output_type": "stream",
     "text": [
      "Größe des Trainingssets: 39\n",
      "Größe des Testsets: 10\n"
     ]
    }
   ],
   "source": [
    "# 26) Teile den (originalen) Datensatz in ein Trainingsset(80%) und ein Testset (20%) auf \n",
    "# (nutze \"random-state\", um das Vorgehen reproduzieren zu können) \n",
    "\n",
    "train = data.sample(frac=0.8, random_state=1)\n",
    "test= data.drop(train.index)\n",
    "\n",
    "#print(\"Trainingsset:\", train)\n",
    "#print(\"Testset:\", test)\n",
    "print(\"Größe des Trainingssets:\", len(train))\n",
    "print(\"Größe des Testsets:\", len(test))"
   ]
  },
  {
   "cell_type": "code",
   "execution_count": 55,
   "metadata": {},
   "outputs": [],
   "source": [
    "# 27) Schreibe nun je das Training- und das Testset in eine neue CSV-Datei\n",
    "\n",
    "train.to_csv('train.csv', sep=',', index=False)\n",
    "test.to_csv('test.csv', sep= ',', index=False)\n",
    "\n",
    "#train_csv = pd.read_csv('train.csv')\n",
    "#train_csv.shape\n",
    "#print(train_csv.head())\n",
    "\n",
    "#test_csv = pd.read_csv('test.csv')\n",
    "#test_csv.shape\n",
    "#print(test.head())"
   ]
  },
  {
   "cell_type": "code",
   "execution_count": null,
   "metadata": {},
   "outputs": [],
   "source": []
  },
  {
   "cell_type": "code",
   "execution_count": null,
   "metadata": {},
   "outputs": [],
   "source": []
  },
  {
   "cell_type": "code",
   "execution_count": null,
   "metadata": {},
   "outputs": [],
   "source": []
  }
 ],
 "metadata": {
  "kernelspec": {
   "display_name": "Python 3",
   "language": "python",
   "name": "python3"
  },
  "language_info": {
   "codemirror_mode": {
    "name": "ipython",
    "version": 3
   },
   "file_extension": ".py",
   "mimetype": "text/x-python",
   "name": "python",
   "nbconvert_exporter": "python",
   "pygments_lexer": "ipython3",
   "version": "3.7.3"
  }
 },
 "nbformat": 4,
 "nbformat_minor": 2
}
