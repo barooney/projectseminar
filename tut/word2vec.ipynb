{
 "cells": [
  {
   "cell_type": "markdown",
   "metadata": {},
   "source": [
    "# word2vec"
   ]
  },
  {
   "cell_type": "code",
   "execution_count": 1,
   "metadata": {},
   "outputs": [],
   "source": [
    "# Es gibt online viele gute Dokumentationen zu word2vec\n",
    "\n",
    "# vgl. z.B. https://code.google.com/archive/p/word2vec/ , \n",
    "# https://rare-technologies.com/deep-learning-with-word2vec-and-gensim/ ,\n",
    "# ... "
   ]
  },
  {
   "cell_type": "code",
   "execution_count": 2,
   "metadata": {},
   "outputs": [],
   "source": [
    "import gensim\n",
    "from gensim.models import word2vec"
   ]
  },
  {
   "cell_type": "code",
   "execution_count": 3,
   "metadata": {},
   "outputs": [],
   "source": [
    "#import logging \n",
    "#logging.basicConfig(format='%(asctime)s : %(levelname)s : %(message)s', level=logging.INFO)"
   ]
  },
  {
   "cell_type": "markdown",
   "metadata": {},
   "source": [
    "### Eigene Wort-Vektoren trainieren?"
   ]
  },
  {
   "cell_type": "code",
   "execution_count": 4,
   "metadata": {},
   "outputs": [],
   "source": [
    "sentences=[['i','like', 'sleeping'],['you', 'like', 'going', 'to', 'school'],['he', 'likes', 'drinking','coffee']]\n",
    "\n",
    "# word2vec erwartet eine Liste von Listen für das Training\n",
    "# d.h. Für jedes Dokument eine Liste\n",
    "# in diesen Listen dann die Tokens des jeweiligen Dokuments  \n",
    "# -> Preprocessing ist also notwendig!"
   ]
  },
  {
   "cell_type": "code",
   "execution_count": 5,
   "metadata": {},
   "outputs": [],
   "source": [
    "# Das Modell trainieren\n",
    "\n",
    "model = gensim.models.Word2Vec(sentences, min_count=1,size=300,workers=2)\n",
    "\n",
    "# Modell braucht tokenisierte Sätze/ eine Liste von Listen\n",
    "# min_count = minimale Anzahl: Nur Wörter mit einer größeren Frequenz als dem angegebenen Wert werden berücksichtigt\n",
    "# size = Größe des  Vectors (Anzahl der der Dimensionen)\n",
    "# window = Fenstergröße (Max Distanz zwischen Target- und Kontextwort, Standard = 5) \n",
    "# workers = Anzahl der Trainingsdurchläufe"
   ]
  },
  {
   "cell_type": "code",
   "execution_count": 19,
   "metadata": {},
   "outputs": [],
   "source": [
    "# Das gelernte Vokabular\n",
    "words = model.wv.vocab\n",
    "#words"
   ]
  },
  {
   "cell_type": "code",
   "execution_count": 7,
   "metadata": {},
   "outputs": [
    {
     "name": "stderr",
     "output_type": "stream",
     "text": [
      "/anaconda3/lib/python3.7/site-packages/smart_open/smart_open_lib.py:398: UserWarning: This function is deprecated, use smart_open.open instead. See the migration notes for details: https://github.com/RaRe-Technologies/smart_open/blob/master/README.rst#migrating-to-the-new-open-function\n",
      "  'See the migration notes for details: %s' % _MIGRATION_NOTES_URL\n"
     ]
    }
   ],
   "source": [
    "# Modell speichern?\n",
    "model.save('model.bin')"
   ]
  },
  {
   "cell_type": "code",
   "execution_count": 8,
   "metadata": {},
   "outputs": [],
   "source": [
    "# Modell laden?\n",
    "new_model =gensim.models.Word2Vec.load('model.bin')"
   ]
  },
  {
   "cell_type": "markdown",
   "metadata": {},
   "source": [
    "### oder auch mit einem Korpus:"
   ]
  },
  {
   "cell_type": "code",
   "execution_count": 9,
   "metadata": {},
   "outputs": [],
   "source": [
    "# hier wurde dieser Korpus genutzt: http://mattmahoney.net/dc/text8.zip\n",
    "# gerne mal andere Daten probieren! \n",
    "\n",
    "sentences = word2vec.Text8Corpus('text8')"
   ]
  },
  {
   "cell_type": "code",
   "execution_count": 10,
   "metadata": {},
   "outputs": [],
   "source": [
    "# Das Modell trainieren \n",
    "model = word2vec.Word2Vec(sentences, size=200, window=3 )"
   ]
  },
  {
   "cell_type": "code",
   "execution_count": 21,
   "metadata": {},
   "outputs": [],
   "source": [
    "# Das gelernte Vokabular\n",
    "words = model.wv.vocab\n",
    "#words"
   ]
  },
  {
   "cell_type": "code",
   "execution_count": 22,
   "metadata": {},
   "outputs": [
    {
     "name": "stderr",
     "output_type": "stream",
     "text": [
      "/anaconda3/lib/python3.7/site-packages/ipykernel_launcher.py:2: DeprecationWarning: Call to deprecated `__getitem__` (Method will be removed in 4.0.0, use self.wv.__getitem__() instead).\n",
      "  \n"
     ]
    }
   ],
   "source": [
    "# den Vektor eines Wortes bekommen?\n",
    "dog = model['dog']\n",
    "#dog"
   ]
  },
  {
   "cell_type": "code",
   "execution_count": 23,
   "metadata": {},
   "outputs": [
    {
     "name": "stderr",
     "output_type": "stream",
     "text": [
      "/anaconda3/lib/python3.7/site-packages/ipykernel_launcher.py:2: DeprecationWarning: Call to deprecated `similarity` (Method will be removed in 4.0.0, use self.wv.similarity() instead).\n",
      "  \n"
     ]
    },
    {
     "data": {
      "text/plain": [
       "0.7110593284326641"
      ]
     },
     "execution_count": 23,
     "metadata": {},
     "output_type": "execute_result"
    }
   ],
   "source": [
    "# Kosinus-Ähnlichkeit von zwei Wörtern?\n",
    "model.similarity(\"girl\", \"woman\")\n",
    "\n",
    "# Wenn Cos = 0: Vektoren sind sehr unähnlich\n",
    "# Wenn Cos = 1: Vektoren sind identisch  "
   ]
  },
  {
   "cell_type": "code",
   "execution_count": 24,
   "metadata": {},
   "outputs": [
    {
     "data": {
      "text/plain": [
       "[('cat', 0.7991612553596497),\n",
       " ('goat', 0.7513457536697388),\n",
       " ('ass', 0.7359466552734375),\n",
       " ('hamster', 0.7076707482337952),\n",
       " ('pig', 0.704289436340332),\n",
       " ('panda', 0.7011972069740295),\n",
       " ('hound', 0.6976771950721741),\n",
       " ('dogs', 0.6931816935539246),\n",
       " ('bird', 0.6914629936218262),\n",
       " ('cow', 0.6904089450836182)]"
      ]
     },
     "execution_count": 24,
     "metadata": {},
     "output_type": "execute_result"
    }
   ],
   "source": [
    "# Die ähnlichsten Wörter?\n",
    "w1 = \"dog\"\n",
    "model.wv.most_similar(positive=w1)"
   ]
  },
  {
   "cell_type": "code",
   "execution_count": 25,
   "metadata": {},
   "outputs": [
    {
     "data": {
      "text/plain": [
       "[('silly', 0.7553974986076355),\n",
       " ('foolish', 0.7276811599731445),\n",
       " ('funny', 0.6868016719818115)]"
      ]
     },
     "execution_count": 25,
     "metadata": {},
     "output_type": "execute_result"
    }
   ],
   "source": [
    "# Nur die drei ähnlichsten Wörter?\n",
    "w2 = \"stupid\"\n",
    "model.wv.most_similar(positive=w2, topn=3)"
   ]
  },
  {
   "cell_type": "code",
   "execution_count": 26,
   "metadata": {},
   "outputs": [
    {
     "name": "stderr",
     "output_type": "stream",
     "text": [
      "/anaconda3/lib/python3.7/site-packages/ipykernel_launcher.py:2: DeprecationWarning: Call to deprecated `most_similar` (Method will be removed in 4.0.0, use self.wv.most_similar() instead).\n",
      "  \n"
     ]
    },
    {
     "data": {
      "text/plain": [
       "[('queen', 0.565642237663269)]"
      ]
     },
     "execution_count": 26,
     "metadata": {},
     "output_type": "execute_result"
    }
   ],
   "source": [
    "# Das ähnlichste Wort, mit Ausnahme von...? \n",
    "model.most_similar(positive=['woman', 'king'], negative=['man'], topn=1)"
   ]
  },
  {
   "cell_type": "code",
   "execution_count": 27,
   "metadata": {},
   "outputs": [
    {
     "name": "stderr",
     "output_type": "stream",
     "text": [
      "/anaconda3/lib/python3.7/site-packages/ipykernel_launcher.py:2: DeprecationWarning: Call to deprecated `most_similar` (Method will be removed in 4.0.0, use self.wv.most_similar() instead).\n",
      "  \n"
     ]
    },
    {
     "data": {
      "text/plain": [
       "[('mother', 0.7462894916534424),\n",
       " ('wife', 0.6885102987289429),\n",
       " ('lover', 0.6719188094139099)]"
      ]
     },
     "execution_count": 27,
     "metadata": {},
     "output_type": "execute_result"
    }
   ],
   "source": [
    "# \"boy\" steht zu \"father\" wie \"girl\" zu ...?\n",
    "model.most_similar(['girl', 'father'], ['boy'], topn=3)"
   ]
  },
  {
   "cell_type": "code",
   "execution_count": 28,
   "metadata": {},
   "outputs": [
    {
     "name": "stderr",
     "output_type": "stream",
     "text": [
      "/anaconda3/lib/python3.7/site-packages/ipykernel_launcher.py:2: DeprecationWarning: Call to deprecated `doesnt_match` (Method will be removed in 4.0.0, use self.wv.doesnt_match() instead).\n",
      "  \n"
     ]
    },
    {
     "data": {
      "text/plain": [
       "'cereal'"
      ]
     },
     "execution_count": 28,
     "metadata": {},
     "output_type": "execute_result"
    }
   ],
   "source": [
    "# Welches Wort passt nicht zu den anderen?\n",
    "model.doesnt_match(\"breakfast cereal dinner lunch\".split())"
   ]
  },
  {
   "cell_type": "markdown",
   "metadata": {},
   "source": [
    "\n",
    "\n"
   ]
  },
  {
   "cell_type": "code",
   "execution_count": null,
   "metadata": {},
   "outputs": [],
   "source": []
  }
 ],
 "metadata": {
  "kernelspec": {
   "display_name": "Python 3",
   "language": "python",
   "name": "python3"
  },
  "language_info": {
   "codemirror_mode": {
    "name": "ipython",
    "version": 3
   },
   "file_extension": ".py",
   "mimetype": "text/x-python",
   "name": "python",
   "nbconvert_exporter": "python",
   "pygments_lexer": "ipython3",
   "version": "3.7.3"
  }
 },
 "nbformat": 4,
 "nbformat_minor": 2
}
