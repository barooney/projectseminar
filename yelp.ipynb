{
 "cells": [
  {
   "cell_type": "markdown",
   "metadata": {},
   "source": [
    "# YELP Dataset analysis"
   ]
  },
  {
   "cell_type": "code",
   "execution_count": 12,
   "metadata": {},
   "outputs": [],
   "source": [
    "# imports\n",
    "import itertools\n",
    "import json\n",
    "import os\n",
    "from tqdm import tqdm"
   ]
  },
  {
   "cell_type": "code",
   "execution_count": 13,
   "metadata": {},
   "outputs": [
    {
     "name": "stdout",
     "output_type": "stream",
     "text": [
      "Folder already exists.\n",
      "Folder already exists.\n"
     ]
    }
   ],
   "source": [
    "# DEFAULTS\n",
    "\n",
    "# define folder structure\n",
    "base_path = os.getcwd()\n",
    "data_path = base_path + '/data'\n",
    "intermediate_data_path = data_path + '/intermediate'\n",
    "\n",
    "try:\n",
    "    os.mkdir(data_path)\n",
    "    print(\"Folder created.\")\n",
    "except FileExistsError:\n",
    "    print(\"Folder already exists.\")\n",
    "\n",
    "try:\n",
    "    os.mkdir(intermediate_data_path)\n",
    "    print(\"Folder created.\")\n",
    "except FileExistsError:\n",
    "    print(\"Folder already exists.\")"
   ]
  },
  {
   "cell_type": "code",
   "execution_count": 14,
   "metadata": {},
   "outputs": [],
   "source": [
    "# DATA MODELS\n",
    "\n",
    "# Business\n",
    "class Business:\n",
    "    def __init__(self, json):\n",
    "        self.__dict__ = json\n",
    "\n",
    "businesses = dict()\n",
    "\n",
    "# Checkin\n",
    "class Checkin:\n",
    "    def __init__(self, json):\n",
    "        self.__dict__ = json\n",
    "\n",
    "checkins = []\n",
    "\n",
    "# Review\n",
    "class Review:\n",
    "    def __init__(self, json):\n",
    "        self.__dict__ = json\n",
    "\n",
    "reviews = dict()\n",
    "\n",
    "# Tip\n",
    "class Tip:\n",
    "    def __init__(self, json):\n",
    "        self.__dict__ = json\n",
    "\n",
    "tips = []\n",
    "\n",
    "# User\n",
    "class User:\n",
    "    def __init__(self, json):\n",
    "        self.__dict__ = json\n",
    "\n",
    "users = dict()"
   ]
  },
  {
   "cell_type": "code",
   "execution_count": 15,
   "metadata": {},
   "outputs": [
    {
     "name": "stderr",
     "output_type": "stream",
     "text": [
      "100%|███████████████████████████████████████████████████████████████████████| 192609/192609 [00:02<00:00, 67963.69it/s]\n",
      "100%|██████████████████████████████████████████████████████████████████████| 161950/161950 [00:01<00:00, 125251.66it/s]\n",
      "100%|████████████████████████████████████████████████████████████████████| 6685900/6685900 [00:58<00:00, 114664.72it/s]\n",
      "100%|████████████████████████████████████████████████████████████████████| 1223094/1223094 [00:04<00:00, 276843.38it/s]\n",
      "100%|█████████████████████████████████████████████████████████████████████| 1637138/1637138 [00:28<00:00, 57345.44it/s]\n"
     ]
    }
   ],
   "source": [
    "# import files\n",
    "with open(data_path + '/yelp/yelp_academic_dataset_business.json', encoding=\"utf8\") as businesses_file:\n",
    "    for l in tqdm(businesses_file.readlines()):\n",
    "        b = Business(json.loads(l))\n",
    "        businesses[b.business_id] = b\n",
    "\n",
    "with open(data_path + '/yelp/yelp_academic_dataset_checkin.json', encoding=\"utf8\") as checkins_file:\n",
    "    for l in tqdm(checkins_file.readlines()):\n",
    "        c = Checkin(json.loads(l))\n",
    "        checkins.append(c)\n",
    "\n",
    "with open(data_path + '/yelp/yelp_academic_dataset_review.json', encoding=\"utf8\") as reviews_file:\n",
    "    for l in tqdm(reviews_file.readlines()):\n",
    "        r = Review(json.loads(l))\n",
    "        reviews[r.review_id] = r\n",
    "\n",
    "with open(data_path + '/yelp/yelp_academic_dataset_tip.json', encoding=\"utf8\") as tips_file:\n",
    "    for l in tqdm(tips_file.readlines()):\n",
    "        t = Tip(json.loads(l))\n",
    "        tips.append(t)\n",
    "\n",
    "with open(data_path + '/yelp/yelp_academic_dataset_user.json', encoding=\"utf8\") as users_file:\n",
    "    for l in tqdm(users_file.readlines()):\n",
    "        u = User(json.loads(l))\n",
    "        users[u.user_id] = u"
   ]
  },
  {
   "cell_type": "code",
   "execution_count": 16,
   "metadata": {},
   "outputs": [
    {
     "name": "stdout",
     "output_type": "stream",
     "text": [
      "# of Businesses: 192609\n",
      "# of Checkins: 161950\n",
      "# of Reviews: 6685900\n",
      "# of Tips: 1223094\n",
      "# of Users: 1637138\n"
     ]
    }
   ],
   "source": [
    "print(\"# of Businesses: \" + str(len(businesses)))\n",
    "print(\"# of Checkins: \" + str(len(checkins)))\n",
    "print(\"# of Reviews: \" + str(len(reviews)))\n",
    "print(\"# of Tips: \" + str(len(tips)))\n",
    "print(\"# of Users: \" + str(len(users)))\n"
   ]
  },
  {
   "cell_type": "markdown",
   "metadata": {},
   "source": [
    "## Collocations:\n",
    "\n",
    "* down hill\n",
    "* great price\n",
    "* high quality\n",
    "* poor quality\n",
    "* huge fan\n",
    "\n",
    "## Indicators for negative reviews:\n",
    "* avoid"
   ]
  },
  {
   "cell_type": "code",
   "execution_count": null,
   "metadata": {},
   "outputs": [],
   "source": []
  },
  {
   "cell_type": "code",
   "execution_count": null,
   "metadata": {},
   "outputs": [],
   "source": []
  },
  {
   "cell_type": "code",
   "execution_count": null,
   "metadata": {},
   "outputs": [],
   "source": []
  }
 ],
 "metadata": {
  "file_extension": ".py",
  "kernelspec": {
   "display_name": "Python 3",
   "language": "python",
   "name": "python3"
  },
  "language_info": {
   "codemirror_mode": {
    "name": "ipython",
    "version": 3
   },
   "file_extension": ".py",
   "mimetype": "text/x-python",
   "name": "python",
   "nbconvert_exporter": "python",
   "pygments_lexer": "ipython3",
   "version": "3.7.4"
  },
  "mimetype": "text/x-python",
  "name": "python",
  "npconvert_exporter": "python",
  "pygments_lexer": "ipython3",
  "version": 3
 },
 "nbformat": 4,
 "nbformat_minor": 2
}
